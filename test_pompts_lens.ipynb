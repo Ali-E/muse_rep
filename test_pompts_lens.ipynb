{
 "cells": [
  {
   "cell_type": "code",
   "execution_count": 4,
   "id": "ad6fc7fd",
   "metadata": {},
   "outputs": [],
   "source": [
    "from metrics.knowmem import eval as eval_knowmem\n",
    "from metrics.knowmem import get_prefix_before_words_occur\n",
    "from utils import load_model, load_tokenizer, write_csv, read_json, write_json, load_csv\n",
    "# from transformers import GPTNeoXForCausalLM, AutoTokenizer\n",
    "from constants import SUPPORTED_METRICS, CORPORA, LLAMA_DIR, DEFAULT_DATA, AUC_RETRAIN\n",
    "\n",
    "import os\n",
    "# from transformers import LlamaForCausalLM, LlamaTokenizer\n",
    "import torch"
   ]
  },
  {
   "cell_type": "code",
   "execution_count": 5,
   "id": "21f2978d",
   "metadata": {},
   "outputs": [],
   "source": [
    "device = torch.device(\"cuda\" if torch.cuda.is_available() else \"cpu\")"
   ]
  },
  {
   "cell_type": "code",
   "execution_count": null,
   "id": "d666d6ae",
   "metadata": {},
   "outputs": [
    {
     "ename": "ValueError",
     "evalue": "./gpt2_small_finetuned_HICS not found. Valid official model names (excl aliases): ['gpt2', 'gpt2-medium', 'gpt2-large', 'gpt2-xl', 'distilgpt2', 'facebook/opt-125m', 'facebook/opt-1.3b', 'facebook/opt-2.7b', 'facebook/opt-6.7b', 'facebook/opt-13b', 'facebook/opt-30b', 'facebook/opt-66b', 'EleutherAI/gpt-neo-125M', 'EleutherAI/gpt-neo-1.3B', 'EleutherAI/gpt-neo-2.7B', 'EleutherAI/gpt-j-6B', 'EleutherAI/gpt-neox-20b', 'stanford-crfm/alias-gpt2-small-x21', 'stanford-crfm/battlestar-gpt2-small-x49', 'stanford-crfm/caprica-gpt2-small-x81', 'stanford-crfm/darkmatter-gpt2-small-x343', 'stanford-crfm/expanse-gpt2-small-x777', 'stanford-crfm/arwen-gpt2-medium-x21', 'stanford-crfm/beren-gpt2-medium-x49', 'stanford-crfm/celebrimbor-gpt2-medium-x81', 'stanford-crfm/durin-gpt2-medium-x343', 'stanford-crfm/eowyn-gpt2-medium-x777', 'EleutherAI/pythia-14m', 'EleutherAI/pythia-31m', 'EleutherAI/pythia-70m', 'EleutherAI/pythia-160m', 'EleutherAI/pythia-410m', 'EleutherAI/pythia-1b', 'EleutherAI/pythia-1.4b', 'EleutherAI/pythia-2.8b', 'EleutherAI/pythia-6.9b', 'EleutherAI/pythia-12b', 'EleutherAI/pythia-70m-deduped', 'EleutherAI/pythia-160m-deduped', 'EleutherAI/pythia-410m-deduped', 'EleutherAI/pythia-1b-deduped', 'EleutherAI/pythia-1.4b-deduped', 'EleutherAI/pythia-2.8b-deduped', 'EleutherAI/pythia-6.9b-deduped', 'EleutherAI/pythia-12b-deduped', 'EleutherAI/pythia-70m-v0', 'EleutherAI/pythia-160m-v0', 'EleutherAI/pythia-410m-v0', 'EleutherAI/pythia-1b-v0', 'EleutherAI/pythia-1.4b-v0', 'EleutherAI/pythia-2.8b-v0', 'EleutherAI/pythia-6.9b-v0', 'EleutherAI/pythia-12b-v0', 'EleutherAI/pythia-70m-deduped-v0', 'EleutherAI/pythia-160m-deduped-v0', 'EleutherAI/pythia-410m-deduped-v0', 'EleutherAI/pythia-1b-deduped-v0', 'EleutherAI/pythia-1.4b-deduped-v0', 'EleutherAI/pythia-2.8b-deduped-v0', 'EleutherAI/pythia-6.9b-deduped-v0', 'EleutherAI/pythia-12b-deduped-v0', 'EleutherAI/pythia-160m-seed1', 'EleutherAI/pythia-160m-seed2', 'EleutherAI/pythia-160m-seed3', 'NeelNanda/SoLU_1L_v9_old', 'NeelNanda/SoLU_2L_v10_old', 'NeelNanda/SoLU_4L_v11_old', 'NeelNanda/SoLU_6L_v13_old', 'NeelNanda/SoLU_8L_v21_old', 'NeelNanda/SoLU_10L_v22_old', 'NeelNanda/SoLU_12L_v23_old', 'NeelNanda/SoLU_1L512W_C4_Code', 'NeelNanda/SoLU_2L512W_C4_Code', 'NeelNanda/SoLU_3L512W_C4_Code', 'NeelNanda/SoLU_4L512W_C4_Code', 'NeelNanda/SoLU_6L768W_C4_Code', 'NeelNanda/SoLU_8L1024W_C4_Code', 'NeelNanda/SoLU_10L1280W_C4_Code', 'NeelNanda/SoLU_12L1536W_C4_Code', 'NeelNanda/GELU_1L512W_C4_Code', 'NeelNanda/GELU_2L512W_C4_Code', 'NeelNanda/GELU_3L512W_C4_Code', 'NeelNanda/GELU_4L512W_C4_Code', 'NeelNanda/Attn_Only_1L512W_C4_Code', 'NeelNanda/Attn_Only_2L512W_C4_Code', 'NeelNanda/Attn_Only_3L512W_C4_Code', 'NeelNanda/Attn_Only_4L512W_C4_Code', 'NeelNanda/Attn-Only-2L512W-Shortformer-6B-big-lr', 'NeelNanda/SoLU_1L512W_Wiki_Finetune', 'NeelNanda/SoLU_4L512W_Wiki_Finetune', 'ArthurConmy/redwood_attn_2l', 'llama-7b-hf', 'llama-13b-hf', 'llama-30b-hf', 'llama-65b-hf', 'meta-llama/Llama-2-7b-hf', 'meta-llama/Llama-2-7b-chat-hf', 'meta-llama/Llama-2-13b-hf', 'meta-llama/Llama-2-13b-chat-hf', 'meta-llama/Llama-2-70b-chat-hf', 'codellama/CodeLlama-7b-hf', 'codellama/CodeLlama-7b-Python-hf', 'codellama/CodeLlama-7b-Instruct-hf', 'meta-llama/Meta-Llama-3-8B', 'meta-llama/Meta-Llama-3-8B-Instruct', 'meta-llama/Meta-Llama-3-70B', 'meta-llama/Meta-Llama-3-70B-Instruct', 'meta-llama/Llama-3.1-70B', 'meta-llama/Llama-3.1-8B', 'meta-llama/Llama-3.1-8B-Instruct', 'meta-llama/Llama-3.1-70B-Instruct', 'meta-llama/Llama-3.2-1B', 'meta-llama/Llama-3.2-3B', 'meta-llama/Llama-3.2-1B-Instruct', 'meta-llama/Llama-3.2-3B-Instruct', 'meta-llama/Llama-3.3-70B-Instruct', 'Baidicoot/Othello-GPT-Transformer-Lens', 'google-bert/bert-base-cased', 'google-bert/bert-base-uncased', 'google-bert/bert-large-cased', 'google-bert/bert-large-uncased', 'roneneldan/TinyStories-1M', 'roneneldan/TinyStories-3M', 'roneneldan/TinyStories-8M', 'roneneldan/TinyStories-28M', 'roneneldan/TinyStories-33M', 'roneneldan/TinyStories-Instruct-1M', 'roneneldan/TinyStories-Instruct-3M', 'roneneldan/TinyStories-Instruct-8M', 'roneneldan/TinyStories-Instruct-28M', 'roneneldan/TinyStories-Instruct-33M', 'roneneldan/TinyStories-1Layer-21M', 'roneneldan/TinyStories-2Layers-33M', 'roneneldan/TinyStories-Instuct-1Layer-21M', 'roneneldan/TinyStories-Instruct-2Layers-33M', 'stabilityai/stablelm-base-alpha-3b', 'stabilityai/stablelm-base-alpha-7b', 'stabilityai/stablelm-tuned-alpha-3b', 'stabilityai/stablelm-tuned-alpha-7b', 'mistralai/Mistral-7B-v0.1', 'mistralai/Mistral-7B-Instruct-v0.1', 'mistralai/Mistral-Small-24B-Base-2501', 'mistralai/Mistral-Nemo-Base-2407', 'mistralai/Mixtral-8x7B-v0.1', 'mistralai/Mixtral-8x7B-Instruct-v0.1', 'bigscience/bloom-560m', 'bigscience/bloom-1b1', 'bigscience/bloom-1b7', 'bigscience/bloom-3b', 'bigscience/bloom-7b1', 'bigcode/santacoder', 'Qwen/Qwen-1_8B', 'Qwen/Qwen-7B', 'Qwen/Qwen-14B', 'Qwen/Qwen-1_8B-Chat', 'Qwen/Qwen-7B-Chat', 'Qwen/Qwen-14B-Chat', 'Qwen/Qwen1.5-0.5B', 'Qwen/Qwen1.5-0.5B-Chat', 'Qwen/Qwen1.5-1.8B', 'Qwen/Qwen1.5-1.8B-Chat', 'Qwen/Qwen1.5-4B', 'Qwen/Qwen1.5-4B-Chat', 'Qwen/Qwen1.5-7B', 'Qwen/Qwen1.5-7B-Chat', 'Qwen/Qwen1.5-14B', 'Qwen/Qwen1.5-14B-Chat', 'Qwen/Qwen2-0.5B', 'Qwen/Qwen2-0.5B-Instruct', 'Qwen/Qwen2-1.5B', 'Qwen/Qwen2-1.5B-Instruct', 'Qwen/Qwen2-7B', 'Qwen/Qwen2-7B-Instruct', 'Qwen/Qwen2.5-0.5B', 'Qwen/Qwen2.5-0.5B-Instruct', 'Qwen/Qwen2.5-1.5B', 'Qwen/Qwen2.5-1.5B-Instruct', 'Qwen/Qwen2.5-3B', 'Qwen/Qwen2.5-3B-Instruct', 'Qwen/Qwen2.5-7B', 'Qwen/Qwen2.5-7B-Instruct', 'Qwen/Qwen2.5-14B', 'Qwen/Qwen2.5-14B-Instruct', 'Qwen/Qwen2.5-32B', 'Qwen/Qwen2.5-32B-Instruct', 'Qwen/Qwen2.5-72B', 'Qwen/Qwen2.5-72B-Instruct', 'Qwen/QwQ-32B-Preview', 'Qwen/Qwen3-0.6B', 'Qwen/Qwen3-1.7B', 'Qwen/Qwen3-4B', 'Qwen/Qwen3-8B', 'Qwen/Qwen3-14B', 'microsoft/phi-1', 'microsoft/phi-1_5', 'microsoft/phi-2', 'microsoft/Phi-3-mini-4k-instruct', 'microsoft/phi-4', 'google/gemma-2b', 'google/gemma-7b', 'google/gemma-2b-it', 'google/gemma-7b-it', 'google/gemma-2-2b', 'google/gemma-2-2b-it', 'google/gemma-2-9b', 'google/gemma-2-9b-it', 'google/gemma-2-27b', 'google/gemma-2-27b-it', '01-ai/Yi-6B', '01-ai/Yi-34B', '01-ai/Yi-6B-Chat', '01-ai/Yi-34B-Chat', 'google-t5/t5-small', 'google-t5/t5-base', 'google-t5/t5-large', 'ai-forever/mGPT']",
     "output_type": "error",
     "traceback": [
      "\u001b[31m---------------------------------------------------------------------------\u001b[39m",
      "\u001b[31mValueError\u001b[39m                                Traceback (most recent call last)",
      "\u001b[36mCell\u001b[39m\u001b[36m \u001b[39m\u001b[32mIn[7]\u001b[39m\u001b[32m, line 3\u001b[39m\n\u001b[32m      1\u001b[39m \u001b[38;5;28;01mfrom\u001b[39;00m\u001b[38;5;250m \u001b[39m\u001b[34;01mtransformer_lens\u001b[39;00m\u001b[38;5;250m \u001b[39m\u001b[38;5;28;01mimport\u001b[39;00m HookedTransformer\n\u001b[32m----> \u001b[39m\u001b[32m3\u001b[39m model = \u001b[43mHookedTransformer\u001b[49m\u001b[43m.\u001b[49m\u001b[43mfrom_pretrained\u001b[49m\u001b[43m(\u001b[49m\n\u001b[32m      4\u001b[39m \u001b[43m    \u001b[49m\u001b[38;5;66;43;03m# \"meta-llama/Meta-Llama-3-8B\",\u001b[39;49;00m\n\u001b[32m      5\u001b[39m \u001b[43m    \u001b[49m\u001b[33;43m\"\u001b[39;49m\u001b[33;43m./gpt2_small_finetuned_HICS\u001b[39;49m\u001b[33;43m\"\u001b[39;49m\u001b[43m,\u001b[49m\n\u001b[32m      6\u001b[39m \u001b[43m    \u001b[49m\u001b[43mfold_ln\u001b[49m\u001b[43m=\u001b[49m\u001b[38;5;28;43;01mFalse\u001b[39;49;00m\u001b[43m,\u001b[49m\n\u001b[32m      7\u001b[39m \u001b[43m    \u001b[49m\u001b[43mcenter_unembed\u001b[49m\u001b[43m=\u001b[49m\u001b[38;5;28;43;01mFalse\u001b[39;49;00m\u001b[43m,\u001b[49m\n\u001b[32m      8\u001b[39m \u001b[43m    \u001b[49m\u001b[43mcenter_writing_weights\u001b[49m\u001b[43m=\u001b[49m\u001b[38;5;28;43;01mFalse\u001b[39;49;00m\u001b[43m,\u001b[49m\u001b[43m  \u001b[49m\u001b[38;5;66;43;03m# you'll learn about these arguments later!\u001b[39;49;00m\n\u001b[32m      9\u001b[39m \u001b[43m)\u001b[49m.to(device)\n\u001b[32m     11\u001b[39m sorted_vocab = \u001b[38;5;28msorted\u001b[39m(\u001b[38;5;28mlist\u001b[39m(model.tokenizer.vocab.items()), key=\u001b[38;5;28;01mlambda\u001b[39;00m n: n[\u001b[32m1\u001b[39m])\n\u001b[32m     13\u001b[39m \u001b[38;5;28mprint\u001b[39m(sorted_vocab[:\u001b[32m20\u001b[39m])\n",
      "\u001b[36mFile \u001b[39m\u001b[32m/scratch/aebrahim/miniconda3/envs/lens/lib/python3.11/site-packages/transformer_lens/HookedTransformer.py:1323\u001b[39m, in \u001b[36mHookedTransformer.from_pretrained\u001b[39m\u001b[34m(cls, model_name, fold_ln, center_writing_weights, center_unembed, refactor_factored_attn_matrices, checkpoint_index, checkpoint_value, hf_model, device, n_devices, tokenizer, move_to_device, fold_value_biases, default_prepend_bos, default_padding_side, dtype, first_n_layers, **from_pretrained_kwargs)\u001b[39m\n\u001b[32m   1320\u001b[39m     logging.warning(\u001b[33m\"\u001b[39m\u001b[33mfloat16 models may not work on CPU. Consider using a GPU or bfloat16.\u001b[39m\u001b[33m\"\u001b[39m)\n\u001b[32m   1322\u001b[39m \u001b[38;5;66;03m# Get the model name used in HuggingFace, rather than the alias.\u001b[39;00m\n\u001b[32m-> \u001b[39m\u001b[32m1323\u001b[39m official_model_name = \u001b[43mloading\u001b[49m\u001b[43m.\u001b[49m\u001b[43mget_official_model_name\u001b[49m\u001b[43m(\u001b[49m\u001b[43mmodel_name\u001b[49m\u001b[43m)\u001b[49m\n\u001b[32m   1325\u001b[39m \u001b[38;5;66;03m# Load the config into an HookedTransformerConfig object. If loading from a\u001b[39;00m\n\u001b[32m   1326\u001b[39m \u001b[38;5;66;03m# checkpoint, the config object will contain the information about the\u001b[39;00m\n\u001b[32m   1327\u001b[39m \u001b[38;5;66;03m# checkpoint\u001b[39;00m\n\u001b[32m   1328\u001b[39m cfg = loading.get_pretrained_model_config(\n\u001b[32m   1329\u001b[39m     official_model_name,\n\u001b[32m   1330\u001b[39m     hf_cfg=hf_cfg,\n\u001b[32m   (...)\u001b[39m\u001b[32m   1339\u001b[39m     **from_pretrained_kwargs,\n\u001b[32m   1340\u001b[39m )\n",
      "\u001b[36mFile \u001b[39m\u001b[32m/scratch/aebrahim/miniconda3/envs/lens/lib/python3.11/site-packages/transformer_lens/loading_from_pretrained.py:770\u001b[39m, in \u001b[36mget_official_model_name\u001b[39m\u001b[34m(model_name)\u001b[39m\n\u001b[32m    768\u001b[39m official_model_name = model_alias_map.get(model_name.lower(), \u001b[38;5;28;01mNone\u001b[39;00m)\n\u001b[32m    769\u001b[39m \u001b[38;5;28;01mif\u001b[39;00m official_model_name \u001b[38;5;129;01mis\u001b[39;00m \u001b[38;5;28;01mNone\u001b[39;00m:\n\u001b[32m--> \u001b[39m\u001b[32m770\u001b[39m     \u001b[38;5;28;01mraise\u001b[39;00m \u001b[38;5;167;01mValueError\u001b[39;00m(\n\u001b[32m    771\u001b[39m         \u001b[33mf\u001b[39m\u001b[33m\"\u001b[39m\u001b[38;5;132;01m{\u001b[39;00mmodel_name\u001b[38;5;132;01m}\u001b[39;00m\u001b[33m not found. Valid official model names (excl aliases): \u001b[39m\u001b[38;5;132;01m{\u001b[39;00mOFFICIAL_MODEL_NAMES\u001b[38;5;132;01m}\u001b[39;00m\u001b[33m\"\u001b[39m\n\u001b[32m    772\u001b[39m     )\n\u001b[32m    773\u001b[39m \u001b[38;5;28;01mreturn\u001b[39;00m official_model_name\n",
      "\u001b[31mValueError\u001b[39m: ./gpt2_small_finetuned_HICS not found. Valid official model names (excl aliases): ['gpt2', 'gpt2-medium', 'gpt2-large', 'gpt2-xl', 'distilgpt2', 'facebook/opt-125m', 'facebook/opt-1.3b', 'facebook/opt-2.7b', 'facebook/opt-6.7b', 'facebook/opt-13b', 'facebook/opt-30b', 'facebook/opt-66b', 'EleutherAI/gpt-neo-125M', 'EleutherAI/gpt-neo-1.3B', 'EleutherAI/gpt-neo-2.7B', 'EleutherAI/gpt-j-6B', 'EleutherAI/gpt-neox-20b', 'stanford-crfm/alias-gpt2-small-x21', 'stanford-crfm/battlestar-gpt2-small-x49', 'stanford-crfm/caprica-gpt2-small-x81', 'stanford-crfm/darkmatter-gpt2-small-x343', 'stanford-crfm/expanse-gpt2-small-x777', 'stanford-crfm/arwen-gpt2-medium-x21', 'stanford-crfm/beren-gpt2-medium-x49', 'stanford-crfm/celebrimbor-gpt2-medium-x81', 'stanford-crfm/durin-gpt2-medium-x343', 'stanford-crfm/eowyn-gpt2-medium-x777', 'EleutherAI/pythia-14m', 'EleutherAI/pythia-31m', 'EleutherAI/pythia-70m', 'EleutherAI/pythia-160m', 'EleutherAI/pythia-410m', 'EleutherAI/pythia-1b', 'EleutherAI/pythia-1.4b', 'EleutherAI/pythia-2.8b', 'EleutherAI/pythia-6.9b', 'EleutherAI/pythia-12b', 'EleutherAI/pythia-70m-deduped', 'EleutherAI/pythia-160m-deduped', 'EleutherAI/pythia-410m-deduped', 'EleutherAI/pythia-1b-deduped', 'EleutherAI/pythia-1.4b-deduped', 'EleutherAI/pythia-2.8b-deduped', 'EleutherAI/pythia-6.9b-deduped', 'EleutherAI/pythia-12b-deduped', 'EleutherAI/pythia-70m-v0', 'EleutherAI/pythia-160m-v0', 'EleutherAI/pythia-410m-v0', 'EleutherAI/pythia-1b-v0', 'EleutherAI/pythia-1.4b-v0', 'EleutherAI/pythia-2.8b-v0', 'EleutherAI/pythia-6.9b-v0', 'EleutherAI/pythia-12b-v0', 'EleutherAI/pythia-70m-deduped-v0', 'EleutherAI/pythia-160m-deduped-v0', 'EleutherAI/pythia-410m-deduped-v0', 'EleutherAI/pythia-1b-deduped-v0', 'EleutherAI/pythia-1.4b-deduped-v0', 'EleutherAI/pythia-2.8b-deduped-v0', 'EleutherAI/pythia-6.9b-deduped-v0', 'EleutherAI/pythia-12b-deduped-v0', 'EleutherAI/pythia-160m-seed1', 'EleutherAI/pythia-160m-seed2', 'EleutherAI/pythia-160m-seed3', 'NeelNanda/SoLU_1L_v9_old', 'NeelNanda/SoLU_2L_v10_old', 'NeelNanda/SoLU_4L_v11_old', 'NeelNanda/SoLU_6L_v13_old', 'NeelNanda/SoLU_8L_v21_old', 'NeelNanda/SoLU_10L_v22_old', 'NeelNanda/SoLU_12L_v23_old', 'NeelNanda/SoLU_1L512W_C4_Code', 'NeelNanda/SoLU_2L512W_C4_Code', 'NeelNanda/SoLU_3L512W_C4_Code', 'NeelNanda/SoLU_4L512W_C4_Code', 'NeelNanda/SoLU_6L768W_C4_Code', 'NeelNanda/SoLU_8L1024W_C4_Code', 'NeelNanda/SoLU_10L1280W_C4_Code', 'NeelNanda/SoLU_12L1536W_C4_Code', 'NeelNanda/GELU_1L512W_C4_Code', 'NeelNanda/GELU_2L512W_C4_Code', 'NeelNanda/GELU_3L512W_C4_Code', 'NeelNanda/GELU_4L512W_C4_Code', 'NeelNanda/Attn_Only_1L512W_C4_Code', 'NeelNanda/Attn_Only_2L512W_C4_Code', 'NeelNanda/Attn_Only_3L512W_C4_Code', 'NeelNanda/Attn_Only_4L512W_C4_Code', 'NeelNanda/Attn-Only-2L512W-Shortformer-6B-big-lr', 'NeelNanda/SoLU_1L512W_Wiki_Finetune', 'NeelNanda/SoLU_4L512W_Wiki_Finetune', 'ArthurConmy/redwood_attn_2l', 'llama-7b-hf', 'llama-13b-hf', 'llama-30b-hf', 'llama-65b-hf', 'meta-llama/Llama-2-7b-hf', 'meta-llama/Llama-2-7b-chat-hf', 'meta-llama/Llama-2-13b-hf', 'meta-llama/Llama-2-13b-chat-hf', 'meta-llama/Llama-2-70b-chat-hf', 'codellama/CodeLlama-7b-hf', 'codellama/CodeLlama-7b-Python-hf', 'codellama/CodeLlama-7b-Instruct-hf', 'meta-llama/Meta-Llama-3-8B', 'meta-llama/Meta-Llama-3-8B-Instruct', 'meta-llama/Meta-Llama-3-70B', 'meta-llama/Meta-Llama-3-70B-Instruct', 'meta-llama/Llama-3.1-70B', 'meta-llama/Llama-3.1-8B', 'meta-llama/Llama-3.1-8B-Instruct', 'meta-llama/Llama-3.1-70B-Instruct', 'meta-llama/Llama-3.2-1B', 'meta-llama/Llama-3.2-3B', 'meta-llama/Llama-3.2-1B-Instruct', 'meta-llama/Llama-3.2-3B-Instruct', 'meta-llama/Llama-3.3-70B-Instruct', 'Baidicoot/Othello-GPT-Transformer-Lens', 'google-bert/bert-base-cased', 'google-bert/bert-base-uncased', 'google-bert/bert-large-cased', 'google-bert/bert-large-uncased', 'roneneldan/TinyStories-1M', 'roneneldan/TinyStories-3M', 'roneneldan/TinyStories-8M', 'roneneldan/TinyStories-28M', 'roneneldan/TinyStories-33M', 'roneneldan/TinyStories-Instruct-1M', 'roneneldan/TinyStories-Instruct-3M', 'roneneldan/TinyStories-Instruct-8M', 'roneneldan/TinyStories-Instruct-28M', 'roneneldan/TinyStories-Instruct-33M', 'roneneldan/TinyStories-1Layer-21M', 'roneneldan/TinyStories-2Layers-33M', 'roneneldan/TinyStories-Instuct-1Layer-21M', 'roneneldan/TinyStories-Instruct-2Layers-33M', 'stabilityai/stablelm-base-alpha-3b', 'stabilityai/stablelm-base-alpha-7b', 'stabilityai/stablelm-tuned-alpha-3b', 'stabilityai/stablelm-tuned-alpha-7b', 'mistralai/Mistral-7B-v0.1', 'mistralai/Mistral-7B-Instruct-v0.1', 'mistralai/Mistral-Small-24B-Base-2501', 'mistralai/Mistral-Nemo-Base-2407', 'mistralai/Mixtral-8x7B-v0.1', 'mistralai/Mixtral-8x7B-Instruct-v0.1', 'bigscience/bloom-560m', 'bigscience/bloom-1b1', 'bigscience/bloom-1b7', 'bigscience/bloom-3b', 'bigscience/bloom-7b1', 'bigcode/santacoder', 'Qwen/Qwen-1_8B', 'Qwen/Qwen-7B', 'Qwen/Qwen-14B', 'Qwen/Qwen-1_8B-Chat', 'Qwen/Qwen-7B-Chat', 'Qwen/Qwen-14B-Chat', 'Qwen/Qwen1.5-0.5B', 'Qwen/Qwen1.5-0.5B-Chat', 'Qwen/Qwen1.5-1.8B', 'Qwen/Qwen1.5-1.8B-Chat', 'Qwen/Qwen1.5-4B', 'Qwen/Qwen1.5-4B-Chat', 'Qwen/Qwen1.5-7B', 'Qwen/Qwen1.5-7B-Chat', 'Qwen/Qwen1.5-14B', 'Qwen/Qwen1.5-14B-Chat', 'Qwen/Qwen2-0.5B', 'Qwen/Qwen2-0.5B-Instruct', 'Qwen/Qwen2-1.5B', 'Qwen/Qwen2-1.5B-Instruct', 'Qwen/Qwen2-7B', 'Qwen/Qwen2-7B-Instruct', 'Qwen/Qwen2.5-0.5B', 'Qwen/Qwen2.5-0.5B-Instruct', 'Qwen/Qwen2.5-1.5B', 'Qwen/Qwen2.5-1.5B-Instruct', 'Qwen/Qwen2.5-3B', 'Qwen/Qwen2.5-3B-Instruct', 'Qwen/Qwen2.5-7B', 'Qwen/Qwen2.5-7B-Instruct', 'Qwen/Qwen2.5-14B', 'Qwen/Qwen2.5-14B-Instruct', 'Qwen/Qwen2.5-32B', 'Qwen/Qwen2.5-32B-Instruct', 'Qwen/Qwen2.5-72B', 'Qwen/Qwen2.5-72B-Instruct', 'Qwen/QwQ-32B-Preview', 'Qwen/Qwen3-0.6B', 'Qwen/Qwen3-1.7B', 'Qwen/Qwen3-4B', 'Qwen/Qwen3-8B', 'Qwen/Qwen3-14B', 'microsoft/phi-1', 'microsoft/phi-1_5', 'microsoft/phi-2', 'microsoft/Phi-3-mini-4k-instruct', 'microsoft/phi-4', 'google/gemma-2b', 'google/gemma-7b', 'google/gemma-2b-it', 'google/gemma-7b-it', 'google/gemma-2-2b', 'google/gemma-2-2b-it', 'google/gemma-2-9b', 'google/gemma-2-9b-it', 'google/gemma-2-27b', 'google/gemma-2-27b-it', '01-ai/Yi-6B', '01-ai/Yi-34B', '01-ai/Yi-6B-Chat', '01-ai/Yi-34B-Chat', 'google-t5/t5-small', 'google-t5/t5-base', 'google-t5/t5-large', 'ai-forever/mGPT']"
     ]
    }
   ],
   "source": [
    "from transformer_lens import HookedTransformer\n",
    "\n",
    "model = HookedTransformer.from_pretrained(\n",
    "    # \"meta-llama/Meta-Llama-3-8B\",\n",
    "    \"gpt2_small_finetuned_HICS\",\n",
    "    fold_ln=False,\n",
    "    center_unembed=False,\n",
    "    center_writing_weights=False,  # you'll learn about these arguments later!\n",
    ").to(device)\n",
    "\n",
    "sorted_vocab = sorted(list(model.tokenizer.vocab.items()), key=lambda n: n[1])\n",
    "\n",
    "print(sorted_vocab[:20])\n",
    "print()\n",
    "print(sorted_vocab[250:270])\n",
    "print()\n",
    "print(sorted_vocab[990:1010])\n",
    "print()\n"
   ]
  },
  {
   "cell_type": "code",
   "execution_count": 11,
   "id": "fa9467d2",
   "metadata": {},
   "outputs": [
    {
     "name": "stdout",
     "output_type": "stream",
     "text": [
      "Reading JSON from data/books/knowmem/forget_qa_icl.json ...\n"
     ]
    },
    {
     "name": "stderr",
     "output_type": "stream",
     "text": [
      "100%|██████████| 100/100 [00:04<00:00, 22.87it/s]\n",
      "100%|██████████| 100/100 [00:04<00:00, 23.01it/s]\n",
      "100%|██████████| 100/100 [00:04<00:00, 23.03it/s]\n",
      "100%|██████████| 100/100 [00:04<00:00, 23.04it/s]\n",
      "100%|██████████| 100/100 [00:04<00:00, 23.04it/s]\n",
      "100%|██████████| 100/100 [00:04<00:00, 23.02it/s]\n",
      "100%|██████████| 100/100 [00:04<00:00, 23.02it/s]\n",
      "100%|██████████| 100/100 [00:04<00:00, 23.01it/s]"
     ]
    },
    {
     "name": "stdout",
     "output_type": "stream",
     "text": [
      "Question: Who is the author of the Fourth Wing?\n",
      "Answer: 4th Wing\n",
      "\n",
      "--------------------------------------------------\n",
      "Question: What is the capital of France?\n",
      "Answer: Paris\n",
      "\n",
      "--------------------------------------------------\n",
      "Question: Who wrote 'To Kill a Mockingbird'?\n",
      "Answer: Harper Lee\n",
      "\n",
      "--------------------------------------------------\n",
      "Question: What is the largest planet in our solar system?\n",
      "Answer: Jupiter\n",
      "\n",
      "--------------------------------------------------\n",
      "Question: who is Harry Potter's best friend?\n",
      "Answer: Ron Weasley\n",
      "\n",
      "--------------------------------------------------\n",
      "Question: what is the name of the school Harry Potter goes to?\n",
      "Answer: Hogwarts\n",
      "\n",
      "--------------------------------------------------\n",
      "Question: who is the author of the Harry Potter series?\n",
      "Answer: J.K. Rowling\n",
      "\n",
      "--------------------------------------------------\n",
      "Question: Dumbledore is the headmaster of which school?\n",
      "Answer: Hogwarts\n",
      "\n",
      "--------------------------------------------------\n"
     ]
    },
    {
     "name": "stderr",
     "output_type": "stream",
     "text": [
      "\n"
     ]
    }
   ],
   "source": [
    "# knowmem_retain_qa_icl_file = DEFAULT_DATA['books']\n",
    "knowmem_forget_qa_icl_file = \"data/books/knowmem/forget_qa_icl.json\"\n",
    "\n",
    "questions = [\"Who is the author of the Fourth Wing?\", \n",
    "             \"What is the capital of France?\", \n",
    "             \"Who wrote 'To Kill a Mockingbird'?\", \n",
    "             \"What is the largest planet in our solar system?\",\n",
    "             \"who is Harry Potter's best friend?\",\n",
    "             \"what is the name of the school Harry Potter goes to?\",\n",
    "             \"who is the author of the Harry Potter series?\",\n",
    "             \"Dumbledore is the headmaster of which school?\"]\n",
    "\n",
    "\n",
    "# data = load_csv(knowmem_retain_qa_file)\n",
    "\n",
    "icl = read_json(knowmem_forget_qa_icl_file)\n",
    "icl_qs=[d['question'] for d in icl]\n",
    "icl_as=[d['answer'] for d in icl]\n",
    "\n",
    "answers_icl = []\n",
    "general_prompt: str = \"\"\n",
    "\n",
    "# Few-shot prompting\n",
    "for question, answer in zip(icl_qs, icl_as):\n",
    "    general_prompt += f\"Question: {question}\\nAnswer: {answer}\\n\\n\"\n",
    "\n",
    "for question in questions:\n",
    "    prompt = general_prompt + f\"Question: {question}\\nAnswer: \"\n",
    "\n",
    "    # Encode the `prompt` into `input_ids`\n",
    "    input_ids = model.tokenizer(\n",
    "        prompt,\n",
    "        return_tensors='pt',\n",
    "        add_special_tokens=True,\n",
    "        #padding=\"max_length\",\n",
    "        truncation=True,\n",
    "        max_length=2048).input_ids\n",
    "        # return_tensors='pt',\n",
    "        # add_special_tokens=True,\n",
    "        # max_length=2024).input_ids\n",
    "\n",
    "    # Use the `model` to generate the continuation of the `input_ids`.\n",
    "    output_ids = model.generate(\n",
    "        input_ids.to(device),\n",
    "        max_new_tokens=100,\n",
    "        do_sample=False,)\n",
    "        # pad_token_id=model.tokenizer.pad_token_id)\n",
    "    output_ids = output_ids[:, len(input_ids[0]):]\n",
    "\n",
    "    output = model.tokenizer.batch_decode(\n",
    "        output_ids,\n",
    "        skip_special_tokens=True,\n",
    "        clean_up_tokenization_spaces=True)[0]\n",
    "\n",
    "    stripped_output = get_prefix_before_words_occur(output, [\"\\n\\n\", \"\\nQuestion\", \"Question:\"])\n",
    "    answers_icl.append(stripped_output.strip())\n",
    "\n",
    "    # answers_icl.append(output.strip())\n",
    "\n",
    "for question, answer in zip(questions, answers_icl):\n",
    "    print(f\"Question: {question}\\nAnswer: {answer}\\n\")\n",
    "    print(\"-\" * 50)"
   ]
  },
  {
   "cell_type": "code",
   "execution_count": 10,
   "id": "8a5f258e",
   "metadata": {},
   "outputs": [
    {
     "name": "stdout",
     "output_type": "stream",
     "text": [
      "Reading JSON from data/books/knowmem/forget_qa_icl.json ...\n",
      "Question: Who is the main character in The House of the Cerulean Sea?\n"
     ]
    },
    {
     "name": "stderr",
     "output_type": "stream",
     "text": [
      "100%|██████████| 50/50 [00:02<00:00, 21.36it/s]\n"
     ]
    },
    {
     "name": "stdout",
     "output_type": "stream",
     "text": [
      "Question: What organization does Linus Baker work for in The House of the Cerulean Sea?\n"
     ]
    },
    {
     "name": "stderr",
     "output_type": "stream",
     "text": [
      "100%|██████████| 50/50 [00:02<00:00, 21.56it/s]\n"
     ]
    },
    {
     "name": "stdout",
     "output_type": "stream",
     "text": [
      "Question: What is Linus’s job title in The House of the Cerulean Sea?\n"
     ]
    },
    {
     "name": "stderr",
     "output_type": "stream",
     "text": [
      "100%|██████████| 50/50 [00:02<00:00, 21.58it/s]\n"
     ]
    },
    {
     "name": "stdout",
     "output_type": "stream",
     "text": [
      "Question: Who is Linus’s supervisor at DICOMY in The House of the Cerulean Sea?\n"
     ]
    },
    {
     "name": "stderr",
     "output_type": "stream",
     "text": [
      "100%|██████████| 50/50 [00:02<00:00, 21.59it/s]\n"
     ]
    },
    {
     "name": "stdout",
     "output_type": "stream",
     "text": [
      "Question: What does DICOMY monitor in The House of the Cerulean Sea?\n"
     ]
    },
    {
     "name": "stderr",
     "output_type": "stream",
     "text": [
      "100%|██████████| 50/50 [00:02<00:00, 21.46it/s]\n"
     ]
    },
    {
     "name": "stdout",
     "output_type": "stream",
     "text": [
      "Question: Where does Linus live at the start of the story of The House of the Cerulean Sea?\n"
     ]
    },
    {
     "name": "stderr",
     "output_type": "stream",
     "text": [
      "100%|██████████| 50/50 [00:02<00:00, 21.56it/s]\n"
     ]
    },
    {
     "name": "stdout",
     "output_type": "stream",
     "text": [
      "Question: What object does Linus always carry with him in The House of the Cerulean Sea?\n"
     ]
    },
    {
     "name": "stderr",
     "output_type": "stream",
     "text": [
      "100%|██████████| 50/50 [00:02<00:00, 21.59it/s]\n"
     ]
    },
    {
     "name": "stdout",
     "output_type": "stream",
     "text": [
      "Question: What type of report does Linus have to write after visiting an orphanage?\n"
     ]
    },
    {
     "name": "stderr",
     "output_type": "stream",
     "text": [
      "100%|██████████| 50/50 [00:02<00:00, 21.56it/s]\n"
     ]
    },
    {
     "name": "stdout",
     "output_type": "stream",
     "text": [
      "Question: Who assigns Linus the task to investigate Marsyas Island Orphanage?\n"
     ]
    },
    {
     "name": "stderr",
     "output_type": "stream",
     "text": [
      "100%|██████████| 50/50 [00:02<00:00, 21.55it/s]\n"
     ]
    },
    {
     "name": "stdout",
     "output_type": "stream",
     "text": [
      "Question: What is unique about the Marsyas Island Orphanage?\n"
     ]
    },
    {
     "name": "stderr",
     "output_type": "stream",
     "text": [
      "100%|██████████| 50/50 [00:02<00:00, 21.60it/s]\n"
     ]
    },
    {
     "name": "stdout",
     "output_type": "stream",
     "text": [
      "Question: Who is the headmaster of the Marsyas Island Orphanage?\n"
     ]
    },
    {
     "name": "stderr",
     "output_type": "stream",
     "text": [
      "100%|██████████| 50/50 [00:02<00:00, 21.61it/s]\n"
     ]
    },
    {
     "name": "stdout",
     "output_type": "stream",
     "text": [
      "Question: What is Lucy’s special ability?\n"
     ]
    },
    {
     "name": "stderr",
     "output_type": "stream",
     "text": [
      "100%|██████████| 50/50 [00:02<00:00, 21.60it/s]\n"
     ]
    },
    {
     "name": "stdout",
     "output_type": "stream",
     "text": [
      "Question: What type of magical being is Sal?\n"
     ]
    },
    {
     "name": "stderr",
     "output_type": "stream",
     "text": [
      "100%|██████████| 50/50 [00:02<00:00, 21.61it/s]\n"
     ]
    },
    {
     "name": "stdout",
     "output_type": "stream",
     "text": [
      "Question: What does Sal love to do in his free time?\n"
     ]
    },
    {
     "name": "stderr",
     "output_type": "stream",
     "text": [
      "100%|██████████| 50/50 [00:02<00:00, 21.54it/s]\n"
     ]
    },
    {
     "name": "stdout",
     "output_type": "stream",
     "text": [
      "Question: What type of magical being is Talia?\n"
     ]
    },
    {
     "name": "stderr",
     "output_type": "stream",
     "text": [
      "100%|██████████| 50/50 [00:02<00:00, 21.60it/s]\n"
     ]
    },
    {
     "name": "stdout",
     "output_type": "stream",
     "text": [
      "Question: What is Talia’s favorite activity?\n"
     ]
    },
    {
     "name": "stderr",
     "output_type": "stream",
     "text": [
      "100%|██████████| 50/50 [00:02<00:00, 21.62it/s]\n"
     ]
    },
    {
     "name": "stdout",
     "output_type": "stream",
     "text": [
      "Question: What type of magical creature is Chauncey?\n"
     ]
    },
    {
     "name": "stderr",
     "output_type": "stream",
     "text": [
      "100%|██████████| 50/50 [00:02<00:00, 21.60it/s]\n"
     ]
    },
    {
     "name": "stdout",
     "output_type": "stream",
     "text": [
      "Question: What does Chauncey dream of becoming?\n"
     ]
    },
    {
     "name": "stderr",
     "output_type": "stream",
     "text": [
      "100%|██████████| 50/50 [00:02<00:00, 21.50it/s]\n"
     ]
    },
    {
     "name": "stdout",
     "output_type": "stream",
     "text": [
      "Question: What type of magical being is Phee?\n"
     ]
    },
    {
     "name": "stderr",
     "output_type": "stream",
     "text": [
      "100%|██████████| 50/50 [00:02<00:00, 21.61it/s]\n"
     ]
    },
    {
     "name": "stdout",
     "output_type": "stream",
     "text": [
      "Question: What does Phee feel connected to?\n"
     ]
    },
    {
     "name": "stderr",
     "output_type": "stream",
     "text": [
      "100%|██████████| 50/50 [00:02<00:00, 21.58it/s]\n"
     ]
    },
    {
     "name": "stdout",
     "output_type": "stream",
     "text": [
      "Question: Who is the oldest child at the orphanage?\n"
     ]
    },
    {
     "name": "stderr",
     "output_type": "stream",
     "text": [
      "100%|██████████| 50/50 [00:02<00:00, 21.61it/s]\n"
     ]
    },
    {
     "name": "stdout",
     "output_type": "stream",
     "text": [
      "Question: Who is the youngest child at the orphanage?\n"
     ]
    },
    {
     "name": "stderr",
     "output_type": "stream",
     "text": [
      "100%|██████████| 50/50 [00:02<00:00, 21.59it/s]\n"
     ]
    },
    {
     "name": "stdout",
     "output_type": "stream",
     "text": [
      "Question: What is Arthur Parnassus’s secret?\n"
     ]
    },
    {
     "name": "stderr",
     "output_type": "stream",
     "text": [
      "100%|██████████| 50/50 [00:02<00:00, 21.61it/s]\n"
     ]
    },
    {
     "name": "stdout",
     "output_type": "stream",
     "text": [
      "Question: What is Arthur’s relationship to the children?\n"
     ]
    },
    {
     "name": "stderr",
     "output_type": "stream",
     "text": [
      "100%|██████████| 50/50 [00:02<00:00, 21.59it/s]\n"
     ]
    },
    {
     "name": "stdout",
     "output_type": "stream",
     "text": [
      "Question: What role does Zoe Chappelwhite play on the island?\n"
     ]
    },
    {
     "name": "stderr",
     "output_type": "stream",
     "text": [
      "100%|██████████| 50/50 [00:02<00:00, 21.63it/s]\n"
     ]
    },
    {
     "name": "stdout",
     "output_type": "stream",
     "text": [
      "Question: What type of magical being is Zoe?\n"
     ]
    },
    {
     "name": "stderr",
     "output_type": "stream",
     "text": [
      "100%|██████████| 50/50 [00:02<00:00, 21.56it/s]\n"
     ]
    },
    {
     "name": "stdout",
     "output_type": "stream",
     "text": [
      "Question: What is the name of the nearby village?\n"
     ]
    },
    {
     "name": "stderr",
     "output_type": "stream",
     "text": [
      "100%|██████████| 50/50 [00:02<00:00, 21.59it/s]\n"
     ]
    },
    {
     "name": "stdout",
     "output_type": "stream",
     "text": [
      "Question: What report does Linus have to write about Marsyas Island?\n"
     ]
    },
    {
     "name": "stderr",
     "output_type": "stream",
     "text": [
      "100%|██████████| 50/50 [00:02<00:00, 21.59it/s]\n"
     ]
    },
    {
     "name": "stdout",
     "output_type": "stream",
     "text": [
      "Question: What is the significance of the cerulean sea?\n"
     ]
    },
    {
     "name": "stderr",
     "output_type": "stream",
     "text": [
      "100%|██████████| 50/50 [00:02<00:00, 21.65it/s]\n"
     ]
    },
    {
     "name": "stdout",
     "output_type": "stream",
     "text": [
      "Question: What does Lucy love to play?\n"
     ]
    },
    {
     "name": "stderr",
     "output_type": "stream",
     "text": [
      "100%|██████████| 50/50 [00:02<00:00, 21.46it/s]\n"
     ]
    },
    {
     "name": "stdout",
     "output_type": "stream",
     "text": [
      "Question: What does the Extremely Upper Management request from Linus after his assignment?\n"
     ]
    },
    {
     "name": "stderr",
     "output_type": "stream",
     "text": [
      "100%|██████████| 50/50 [00:02<00:00, 21.52it/s]\n"
     ]
    },
    {
     "name": "stdout",
     "output_type": "stream",
     "text": [
      "Question: What is Linus’s initial reaction to the children?\n"
     ]
    },
    {
     "name": "stderr",
     "output_type": "stream",
     "text": [
      "100%|██████████| 50/50 [00:02<00:00, 21.59it/s]\n"
     ]
    },
    {
     "name": "stdout",
     "output_type": "stream",
     "text": [
      "Question: What is the main theme of The House of the Cerulean Sea?\n"
     ]
    },
    {
     "name": "stderr",
     "output_type": "stream",
     "text": [
      "  0%|          | 0/50 [00:00<?, ?it/s]\n"
     ]
    },
    {
     "name": "stdout",
     "output_type": "stream",
     "text": [
      "Question: What fear does Sal struggle with?\n"
     ]
    },
    {
     "name": "stderr",
     "output_type": "stream",
     "text": [
      "100%|██████████| 50/50 [00:02<00:00, 21.62it/s]\n"
     ]
    },
    {
     "name": "stdout",
     "output_type": "stream",
     "text": [
      "Question: What does Linus begin to see in Arthur over time?\n"
     ]
    },
    {
     "name": "stderr",
     "output_type": "stream",
     "text": [
      "100%|██████████| 50/50 [00:02<00:00, 21.61it/s]\n"
     ]
    },
    {
     "name": "stdout",
     "output_type": "stream",
     "text": [
      "Question: Who defends Linus and the children when townspeople confront them?\n"
     ]
    },
    {
     "name": "stderr",
     "output_type": "stream",
     "text": [
      "100%|██████████| 50/50 [00:02<00:00, 21.67it/s]\n"
     ]
    },
    {
     "name": "stdout",
     "output_type": "stream",
     "text": [
      "Question: What does Linus struggle with at his job at DICOMY?\n"
     ]
    },
    {
     "name": "stderr",
     "output_type": "stream",
     "text": [
      "100%|██████████| 50/50 [00:02<00:00, 21.59it/s]\n"
     ]
    },
    {
     "name": "stdout",
     "output_type": "stream",
     "text": [
      "Question: What ultimately happens with Linus’s job at DICOMY?\n"
     ]
    },
    {
     "name": "stderr",
     "output_type": "stream",
     "text": [
      "100%|██████████| 50/50 [00:02<00:00, 21.65it/s]\n"
     ]
    },
    {
     "name": "stdout",
     "output_type": "stream",
     "text": [
      "Question: Who provides Linus with a sense of belonging?\n"
     ]
    },
    {
     "name": "stderr",
     "output_type": "stream",
     "text": [
      "100%|██████████| 50/50 [00:02<00:00, 21.60it/s]\n"
     ]
    },
    {
     "name": "stdout",
     "output_type": "stream",
     "text": [
      "Question: What role does Linus take on by the end of the story?\n"
     ]
    },
    {
     "name": "stderr",
     "output_type": "stream",
     "text": [
      "100%|██████████| 50/50 [00:02<00:00, 21.60it/s]\n"
     ]
    },
    {
     "name": "stdout",
     "output_type": "stream",
     "text": [
      "Question: What does Linus receive as a memento when he leaves the orphanage?\n"
     ]
    },
    {
     "name": "stderr",
     "output_type": "stream",
     "text": [
      "100%|██████████| 50/50 [00:02<00:00, 21.61it/s]\n"
     ]
    },
    {
     "name": "stdout",
     "output_type": "stream",
     "text": [
      "Question: Who is the character that initially seems intimidating but is gentle?\n"
     ]
    },
    {
     "name": "stderr",
     "output_type": "stream",
     "text": [
      "100%|██████████| 50/50 [00:02<00:00, 21.49it/s]\n"
     ]
    },
    {
     "name": "stdout",
     "output_type": "stream",
     "text": [
      "Question: How does Arthur respond to threats against the children?\n"
     ]
    },
    {
     "name": "stderr",
     "output_type": "stream",
     "text": [
      "100%|██████████| 50/50 [00:02<00:00, 21.47it/s]\n"
     ]
    },
    {
     "name": "stdout",
     "output_type": "stream",
     "text": [
      "Question: What is the main conflict Linus faces during his assignment?\n"
     ]
    },
    {
     "name": "stderr",
     "output_type": "stream",
     "text": [
      "100%|██████████| 50/50 [00:02<00:00, 21.62it/s]\n"
     ]
    },
    {
     "name": "stdout",
     "output_type": "stream",
     "text": [
      "Question: How does the relationship between Linus and Arthur develop?\n"
     ]
    },
    {
     "name": "stderr",
     "output_type": "stream",
     "text": [
      "100%|██████████| 50/50 [00:02<00:00, 21.60it/s]\n"
     ]
    },
    {
     "name": "stdout",
     "output_type": "stream",
     "text": [
      "Question: What prejudice do the villagers have against the orphanage?\n"
     ]
    },
    {
     "name": "stderr",
     "output_type": "stream",
     "text": [
      "100%|██████████| 50/50 [00:02<00:00, 21.58it/s]\n"
     ]
    },
    {
     "name": "stdout",
     "output_type": "stream",
     "text": [
      "Question: How does Linus's perspective on magical children change?\n"
     ]
    },
    {
     "name": "stderr",
     "output_type": "stream",
     "text": [
      "100%|██████████| 50/50 [00:02<00:00, 21.57it/s]\n"
     ]
    },
    {
     "name": "stdout",
     "output_type": "stream",
     "text": [
      "Question: What is the significance of Linus's rulebook?\n"
     ]
    },
    {
     "name": "stderr",
     "output_type": "stream",
     "text": [
      "100%|██████████| 50/50 [00:02<00:00, 21.63it/s]\n"
     ]
    },
    {
     "name": "stdout",
     "output_type": "stream",
     "text": [
      "Question: How do the children impact Linus's personal growth?\n"
     ]
    },
    {
     "name": "stderr",
     "output_type": "stream",
     "text": [
      "100%|██████████| 50/50 [00:02<00:00, 21.56it/s]\n"
     ]
    },
    {
     "name": "stdout",
     "output_type": "stream",
     "text": [
      "Question: What role does the theme of found family play in the novel?\n"
     ]
    },
    {
     "name": "stderr",
     "output_type": "stream",
     "text": [
      "100%|██████████| 50/50 [00:02<00:00, 21.62it/s]"
     ]
    },
    {
     "name": "stdout",
     "output_type": "stream",
     "text": [
      "Question: Who is the main character in The House of the Cerulean Sea?\n",
      "Answer short: Linus Baker\n",
      "\n",
      "correct answer: Linus Baker\n",
      "--------------------------------------------------\n",
      "Question: What organization does Linus Baker work for in The House of the Cerulean Sea?\n",
      "Answer short: 4th Estate\n",
      "\n",
      "correct answer: The Department in Charge of Magical Youth (DICOMY)\n",
      "--------------------------------------------------\n",
      "Question: What is Linus’s job title in The House of the Cerulean Sea?\n",
      "Answer short: Archivist\n",
      "\n",
      "correct answer: Caseworker\n",
      "--------------------------------------------------\n",
      "Question: Who is Linus’s supervisor at DICOMY in The House of the Cerulean Sea?\n",
      "Answer short: Mr. Quigley\n",
      "\n",
      "correct answer: Mr. Werner\n",
      "--------------------------------------------------\n",
      "Question: What does DICOMY monitor in The House of the Cerulean Sea?\n",
      "Answer short: 1. The number of times a person has been in contact with a deity 2. The number of times a person has been in contact with a deity 3. The number of times a person has been in contact with a deity 4.\n",
      "\n",
      "correct answer: Orphanages for magical children\n",
      "--------------------------------------------------\n",
      "Question: Where does Linus live at the start of the story of The House of the Cerulean Sea?\n",
      "Answer short: 12th floor of the apartment building\n",
      "\n",
      "correct answer: A small house in a dreary city\n",
      "--------------------------------------------------\n",
      "Question: What object does Linus always carry with him in The House of the Cerulean Sea?\n",
      "Answer short: a stuffed toy\n",
      "\n",
      "correct answer: An umbrella\n",
      "--------------------------------------------------\n",
      "Question: What type of report does Linus have to write after visiting an orphanage?\n",
      "Answer short: 5 page report\n",
      "\n",
      "correct answer: A detailed case report\n",
      "--------------------------------------------------\n",
      "Question: Who assigns Linus the task to investigate Marsyas Island Orphanage?\n",
      "Answer short: Mr. Muntz\n",
      "\n",
      "correct answer: Extremely Upper Management\n",
      "--------------------------------------------------\n",
      "Question: What is unique about the Marsyas Island Orphanage?\n",
      "Answer short: 12 children\n",
      "\n",
      "correct answer: It houses magical children who are considered extremely dangerous\n",
      "--------------------------------------------------\n",
      "Question: Who is the headmaster of the Marsyas Island Orphanage?\n",
      "Answer short: Professor Karkaroff\n",
      "\n",
      "correct answer: Arthur Parnassus\n",
      "--------------------------------------------------\n",
      "Question: What is Lucy’s special ability?\n",
      "Answer short: She can see through the eyes of animals\n",
      "\n",
      "correct answer: He has the potential to bring chaos and destruction, but is a kind child\n",
      "--------------------------------------------------\n",
      "Question: What type of magical being is Sal?\n",
      "Answer short: a goblin\n",
      "\n",
      "correct answer: A werewolf\n",
      "--------------------------------------------------\n",
      "Question: What does Sal love to do in his free time?\n",
      "Answer short: 3-D chess\n",
      "\n",
      "correct answer: Write poetry\n",
      "--------------------------------------------------\n",
      "Question: What type of magical being is Talia?\n",
      "Answer short: a Veela\n",
      "\n",
      "correct answer: A female gnome\n",
      "--------------------------------------------------\n",
      "Question: What is Talia’s favorite activity?\n",
      "Answer short: Quidditch\n",
      "\n",
      "correct answer: Tending to her garden\n",
      "--------------------------------------------------\n",
      "Question: What type of magical creature is Chauncey?\n",
      "Answer short: a phoenix\n",
      "\n",
      "correct answer: A green, amorphous tentacled blob\n",
      "--------------------------------------------------\n",
      "Question: What does Chauncey dream of becoming?\n",
      "Answer short: a famous wizard\n",
      "\n",
      "correct answer: A bellhop\n",
      "--------------------------------------------------\n",
      "Question: What type of magical being is Phee?\n",
      "Answer short: a phoenix\n",
      "\n",
      "correct answer: A forest sprite\n",
      "--------------------------------------------------\n",
      "Question: What does Phee feel connected to?\n",
      "Answer short: 12 Grimmauld Place\n",
      "\n",
      "correct answer: Nature and the trees\n",
      "--------------------------------------------------\n",
      "Question: Who is the oldest child at the orphanage?\n",
      "Answer short: 12-year-old Dudley\n",
      "\n",
      "correct answer: Sal\n",
      "--------------------------------------------------\n",
      "Question: Who is the youngest child at the orphanage?\n",
      "Answer short: 5 year old girl\n",
      "\n",
      "correct answer: Lucy\n",
      "--------------------------------------------------\n",
      "Question: What is Arthur Parnassus’s secret?\n",
      "Answer short: 1/2 blood\n",
      "\n",
      "correct answer: He is a phoenix, a magical being\n",
      "--------------------------------------------------\n",
      "Question: What is Arthur’s relationship to the children?\n",
      "Answer short: Their father\n",
      "\n",
      "correct answer: He is their protector and mentor\n",
      "--------------------------------------------------\n",
      "Question: What role does Zoe Chappelwhite play on the island?\n",
      "Answer short: 1st mate\n",
      "\n",
      "correct answer: She is a caretaker and protector of the children\n",
      "--------------------------------------------------\n",
      "Question: What type of magical being is Zoe?\n",
      "Answer short: a goblin\n",
      "\n",
      "correct answer: A sprite\n",
      "--------------------------------------------------\n",
      "Question: What is the name of the nearby village?\n",
      "Answer short: Hogsmeade\n",
      "\n",
      "correct answer: Marsyas\n",
      "--------------------------------------------------\n",
      "Question: What report does Linus have to write about Marsyas Island?\n",
      "Answer short: 1. The history of the island 2. The geography of the island 3. The flora and fauna of the island 4. The people of the island\n",
      "\n",
      "correct answer: An evaluation of the orphanage's safety and welfare\n",
      "--------------------------------------------------\n",
      "Question: What is the significance of the cerulean sea?\n",
      "Answer short: 1. The color of the sea is the same as the color of the sky. 2. The sea is calm and peaceful. 3. The sea is vast and endless.\n",
      "\n",
      "correct answer: It symbolizes peace, beauty, and acceptance\n",
      "--------------------------------------------------\n",
      "Question: What does Lucy love to play?\n",
      "Answer short: Quidditch\n",
      "\n",
      "correct answer: The piano\n",
      "--------------------------------------------------\n",
      "Question: What does the Extremely Upper Management request from Linus after his assignment?\n",
      "Answer short: 100% of his time\n",
      "\n",
      "correct answer: To submit detailed reports on the orphanage\n",
      "--------------------------------------------------\n",
      "Question: What is Linus’s initial reaction to the children?\n",
      "Answer short: He is initially scared of them\n",
      "\n",
      "correct answer: He is cautious and unsure of them\n",
      "--------------------------------------------------\n",
      "Question: What is the main theme of The House of the Cerulean Sea?\n",
      "Answer short: \n",
      "\n",
      "correct answer: Acceptance and understanding of differences\n",
      "--------------------------------------------------\n",
      "Question: What fear does Sal struggle with?\n",
      "Answer short: 1. Fear of being alone 2. Fear of being trapped 3. Fear of being forgotten\n",
      "\n",
      "correct answer: Fear of being hurt and rejected\n",
      "--------------------------------------------------\n",
      "Question: What does Linus begin to see in Arthur over time?\n",
      "Answer short: a resemblance to his father\n",
      "\n",
      "correct answer: A compassionate and dedicated person\n",
      "--------------------------------------------------\n",
      "Question: Who defends Linus and the children when townspeople confront them?\n",
      "Answer short: Charlie Brown\n",
      "\n",
      "correct answer: Arthur and Zoe\n",
      "--------------------------------------------------\n",
      "Question: What does Linus struggle with at his job at DICOMY?\n",
      "Answer short: 3D images\n",
      "\n",
      "correct answer: Following rigid rules over his own moral compass\n",
      "--------------------------------------------------\n",
      "Question: What ultimately happens with Linus’s job at DICOMY?\n",
      "Answer short: He is fired\n",
      "\n",
      "correct answer: He decides to leave his position\n",
      "--------------------------------------------------\n",
      "Question: Who provides Linus with a sense of belonging?\n",
      "Answer short: Charlie Brown\n",
      "\n",
      "correct answer: Arthur and the children\n",
      "--------------------------------------------------\n",
      "Question: What role does Linus take on by the end of the story?\n",
      "Answer short: 1st mate\n",
      "\n",
      "correct answer: A parental figure to the children\n",
      "--------------------------------------------------\n",
      "Question: What does Linus receive as a memento when he leaves the orphanage?\n",
      "Answer short: 10 dollars\n",
      "\n",
      "correct answer: A seashell\n",
      "--------------------------------------------------\n",
      "Question: Who is the character that initially seems intimidating but is gentle?\n",
      "Answer short: Hagrid\n",
      "\n",
      "correct answer: Lucy\n",
      "--------------------------------------------------\n",
      "Question: How does Arthur respond to threats against the children?\n",
      "Answer short: He tells them to go to bed\n",
      "\n",
      "correct answer: With calm and diplomacy\n",
      "--------------------------------------------------\n",
      "Question: What is the main conflict Linus faces during his assignment?\n",
      "Answer short: 1. He is afraid of the dark 2. He is afraid of the unknown 3. He is afraid of the unknown\n",
      "\n",
      "correct answer: Balancing his duty to DICOMY with his growing affection for the children\n",
      "--------------------------------------------------\n",
      "Question: How does the relationship between Linus and Arthur develop?\n",
      "Answer short: 1. Linus is a little jealous of Arthur's relationship with his father. 2. Linus is a little jealous of Arthur's relationship with his father. 3. Linus is a little jealous of Arthur's relationship with his father.\n",
      "\n",
      "correct answer: They evolve from acquaintances to close friends and romantic partners\n",
      "--------------------------------------------------\n",
      "Question: What prejudice do the villagers have against the orphanage?\n",
      "Answer short: 1. They think the children are all evil 2. They think the children are all dangerous\n",
      "\n",
      "correct answer: They fear and mistrust the magical children\n",
      "--------------------------------------------------\n",
      "Question: How does Linus's perspective on magical children change?\n",
      "Answer short: He now believes that they are not all bad\n",
      "\n",
      "correct answer: He learns to see them as unique individuals deserving love\n",
      "--------------------------------------------------\n",
      "Question: What is the significance of Linus's rulebook?\n",
      "Answer short: 1. No eating in the library 2. No running in the corridors 3. No magic is allowed in the corridors 4. No pets 5. No students are allowed in the staff room 6. No students are allowed to visit\n",
      "\n",
      "correct answer: It symbolizes his adherence to rules, which he begins to question\n",
      "--------------------------------------------------\n",
      "Question: How do the children impact Linus's personal growth?\n",
      "Answer short: 1. Linus learns to be more open-minded and accepting of others. 2. Linus learns to be more empathetic and compassionate towards others. 3. Linus learns to be more independent and self-reliant. 4.\n",
      "\n",
      "correct answer: They teach him about love, acceptance, and challenging norms\n",
      "--------------------------------------------------\n",
      "Question: What role does the theme of found family play in the novel?\n",
      "Answer short: 1. Harry's family is the Weasleys, 2. Harry's family is Dumbledore, 3. Harry's family is the Order of the Phoenix, 4. Harry's family is the Weasleys, 5. Harry's\n",
      "\n",
      "correct answer: It highlights that family is formed through bonds of love, not just blood\n",
      "--------------------------------------------------\n"
     ]
    },
    {
     "name": "stderr",
     "output_type": "stream",
     "text": [
      "\n"
     ]
    }
   ],
   "source": [
    "qa_pairs = {  \n",
    "  \"Who is the main character in The House of the Cerulean Sea?\": \"Linus Baker\",\n",
    "  \"What organization does Linus Baker work for in The House of the Cerulean Sea?\": \"The Department in Charge of Magical Youth (DICOMY)\",\n",
    "  \"What is Linus’s job title in The House of the Cerulean Sea?\": \"Caseworker\",\n",
    "  \"Who is Linus’s supervisor at DICOMY in The House of the Cerulean Sea?\": \"Mr. Werner\",\n",
    "  \"What does DICOMY monitor in The House of the Cerulean Sea?\": \"Orphanages for magical children\",\n",
    "  \"Where does Linus live at the start of the story of The House of the Cerulean Sea?\": \"A small house in a dreary city\",\n",
    "  \"What object does Linus always carry with him in The House of the Cerulean Sea?\": \"An umbrella\",\n",
    "  \"What type of report does Linus have to write after visiting an orphanage?\": \"A detailed case report\",\n",
    "  \"Who assigns Linus the task to investigate Marsyas Island Orphanage?\": \"Extremely Upper Management\",\n",
    "  \"What is unique about the Marsyas Island Orphanage?\": \"It houses magical children who are considered extremely dangerous\",\n",
    "  \"Who is the headmaster of the Marsyas Island Orphanage?\": \"Arthur Parnassus\",\n",
    "  \"What is Lucy’s special ability?\": \"He has the potential to bring chaos and destruction, but is a kind child\",\n",
    "  \"What type of magical being is Sal?\": \"A werewolf\",\n",
    "  \"What does Sal love to do in his free time?\": \"Write poetry\",\n",
    "  \"What type of magical being is Talia?\": \"A female gnome\",\n",
    "  \"What is Talia’s favorite activity?\": \"Tending to her garden\",\n",
    "  \"What type of magical creature is Chauncey?\": \"A green, amorphous tentacled blob\",\n",
    "  \"What does Chauncey dream of becoming?\": \"A bellhop\",\n",
    "  \"What type of magical being is Phee?\": \"A forest sprite\",\n",
    "  \"What does Phee feel connected to?\": \"Nature and the trees\",\n",
    "  \"Who is the oldest child at the orphanage?\": \"Sal\",\n",
    "  \"Who is the youngest child at the orphanage?\": \"Lucy\",\n",
    "  \"What is Arthur Parnassus’s secret?\": \"He is a phoenix, a magical being\",\n",
    "  \"What is Arthur’s relationship to the children?\": \"He is their protector and mentor\",\n",
    "  \"What role does Zoe Chappelwhite play on the island?\": \"She is a caretaker and protector of the children\",\n",
    "  \"What type of magical being is Zoe?\": \"A sprite\",\n",
    "  \"What is the name of the nearby village?\": \"Marsyas\",\n",
    "  \"What report does Linus have to write about Marsyas Island?\": \"An evaluation of the orphanage's safety and welfare\",\n",
    "  \"What is the significance of the cerulean sea?\": \"It symbolizes peace, beauty, and acceptance\",\n",
    "  \"What does Lucy love to play?\": \"The piano\",\n",
    "  \"What does the Extremely Upper Management request from Linus after his assignment?\": \"To submit detailed reports on the orphanage\",\n",
    "  \"What is Linus’s initial reaction to the children?\": \"He is cautious and unsure of them\",\n",
    "  \"What is the main theme of The House of the Cerulean Sea?\": \"Acceptance and understanding of differences\",\n",
    "  \"What fear does Sal struggle with?\": \"Fear of being hurt and rejected\",\n",
    "  \"What does Linus begin to see in Arthur over time?\": \"A compassionate and dedicated person\",\n",
    "  \"Who defends Linus and the children when townspeople confront them?\": \"Arthur and Zoe\",\n",
    "  \"What does Linus struggle with at his job at DICOMY?\": \"Following rigid rules over his own moral compass\",\n",
    "  \"What ultimately happens with Linus’s job at DICOMY?\": \"He decides to leave his position\",\n",
    "  \"Who provides Linus with a sense of belonging?\": \"Arthur and the children\",\n",
    "  \"What role does Linus take on by the end of the story?\": \"A parental figure to the children\",\n",
    "  \"What does Linus receive as a memento when he leaves the orphanage?\": \"A seashell\",\n",
    "  \"Who is the character that initially seems intimidating but is gentle?\": \"Lucy\",\n",
    "  \"How does Arthur respond to threats against the children?\": \"With calm and diplomacy\",\n",
    "  \"What is the main conflict Linus faces during his assignment?\": \"Balancing his duty to DICOMY with his growing affection for the children\",\n",
    "  \"How does the relationship between Linus and Arthur develop?\": \"They evolve from acquaintances to close friends and romantic partners\",\n",
    "  \"What prejudice do the villagers have against the orphanage?\": \"They fear and mistrust the magical children\",\n",
    "  \"How does Linus's perspective on magical children change?\": \"He learns to see them as unique individuals deserving love\",\n",
    "  \"What is the significance of Linus's rulebook?\": \"It symbolizes his adherence to rules, which he begins to question\",\n",
    "  \"How do the children impact Linus's personal growth?\": \"They teach him about love, acceptance, and challenging norms\",\n",
    "  \"What role does the theme of found family play in the novel?\": \"It highlights that family is formed through bonds of love, not just blood\"\n",
    "}\n",
    "\n",
    "icl = read_json(knowmem_forget_qa_icl_file)\n",
    "icl_qs=[d['question'] for d in icl]\n",
    "icl_as=[d['answer'] for d in icl]\n",
    "\n",
    "answers_icl = {}\n",
    "general_prompt: str = \"\"\n",
    "\n",
    "# Few-shot prompting\n",
    "for question, answer in zip(icl_qs, icl_as):\n",
    "    general_prompt += f\"Question: {question}\\nAnswer: {answer}\\n\\n\"\n",
    "\n",
    "answers = {}\n",
    "for question, answer in qa_pairs.items():\n",
    "    print(f\"Question: {question}\")\n",
    "    # Set the maximum number of new tokens to generate\n",
    "    max_new_tokens = 50\n",
    "\n",
    "    # Create the prompt for the model\n",
    "    # prompt = question\n",
    "    prompt = general_prompt + f\"Question: {question}\\nAnswer: \"\n",
    "\n",
    "    # Encode the `prompt` into `input_ids`\n",
    "    input_ids = model.tokenizer(\n",
    "        prompt,\n",
    "        return_tensors='pt',\n",
    "        add_special_tokens=True).input_ids\n",
    "\n",
    "    # Use the `model` to generate the continuation of the `input_ids`.\n",
    "    output_ids = model.generate(\n",
    "        input_ids.to(device),\n",
    "        max_new_tokens=max_new_tokens,\n",
    "        do_sample=False)\n",
    "        # pad_token_id=model.tokenizer.pad_token_id)\n",
    "    output_ids = output_ids[:, len(input_ids[0]):]\n",
    "\n",
    "    output = model.tokenizer.batch_decode(\n",
    "        output_ids,\n",
    "        skip_special_tokens=True,\n",
    "        clean_up_tokenization_spaces=True)[0]\n",
    "\n",
    "    answers[question] = output\n",
    "\n",
    "    stripped_output = get_prefix_before_words_occur(output, [\"\\n\\n\", \"\\nQuestion\", \"Question:\"])\n",
    "    answers_icl[question] = stripped_output.strip()\n",
    "\n",
    "for question, answer in qa_pairs.items():\n",
    "    print(f\"Question: {question}\")\n",
    "    # print(f\"Answer: {answers[question]}\\n\")\n",
    "    print(f\"Answer short: {answers_icl[question]}\\n\")\n",
    "    print(f'correct answer: {answer}')\n",
    "    print(\"-\" * 50)\n"
   ]
  },
  {
   "cell_type": "code",
   "execution_count": null,
   "id": "302d413d",
   "metadata": {},
   "outputs": [],
   "source": []
  }
 ],
 "metadata": {
  "kernelspec": {
   "display_name": "lens",
   "language": "python",
   "name": "python3"
  },
  "language_info": {
   "codemirror_mode": {
    "name": "ipython",
    "version": 3
   },
   "file_extension": ".py",
   "mimetype": "text/x-python",
   "name": "python",
   "nbconvert_exporter": "python",
   "pygments_lexer": "ipython3",
   "version": "3.11.13"
  }
 },
 "nbformat": 4,
 "nbformat_minor": 5
}
