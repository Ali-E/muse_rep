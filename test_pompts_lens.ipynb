{
 "cells": [
  {
   "cell_type": "code",
   "execution_count": null,
   "id": "ad6fc7fd",
   "metadata": {},
   "outputs": [
    {
     "name": "stderr",
     "output_type": "stream",
     "text": [
      "/scratch/aebrahim/miniconda3/envs/lens/lib/python3.11/site-packages/tqdm/auto.py:21: TqdmWarning: IProgress not found. Please update jupyter and ipywidgets. See https://ipywidgets.readthedocs.io/en/stable/user_install.html\n",
      "  from .autonotebook import tqdm as notebook_tqdm\n"
     ]
    }
   ],
   "source": [
    "from metrics.knowmem import eval as eval_knowmem\n",
    "from metrics.knowmem import get_prefix_before_words_occur\n",
    "from utils import load_model, load_tokenizer, write_csv, read_json, write_json, load_csv\n",
    "# from transformers import GPTNeoXForCausalLM, AutoTokenizer\n",
    "from constants import SUPPORTED_METRICS, CORPORA, LLAMA_DIR, DEFAULT_DATA, AUC_RETRAIN\n",
    "\n",
    "import os\n",
    "# from transformers import LlamaForCausalLM, LlamaTokenizer\n",
    "import torch"
   ]
  },
  {
   "cell_type": "code",
   "execution_count": 3,
   "id": "21f2978d",
   "metadata": {},
   "outputs": [],
   "source": [
    "device = torch.device(\"cuda\" if torch.cuda.is_available() else \"cpu\")"
   ]
  },
  {
   "cell_type": "code",
   "execution_count": null,
   "id": "d666d6ae",
   "metadata": {},
   "outputs": [
    {
     "name": "stderr",
     "output_type": "stream",
     "text": [
      "Loading checkpoint shards: 100%|██████████| 4/4 [00:02<00:00,  1.95it/s]\n"
     ]
    },
    {
     "name": "stdout",
     "output_type": "stream",
     "text": [
      "Loaded pretrained model meta-llama/Meta-Llama-3-8B into HookedTransformer\n",
      "[('!', 0), ('\"', 1), ('#', 2), ('$', 3), ('%', 4), ('&', 5), (\"'\", 6), ('(', 7), (')', 8), ('*', 9), ('+', 10), (',', 11), ('-', 12), ('.', 13), ('/', 14), ('0', 15), ('1', 16), ('2', 17), ('3', 18), ('4', 19)]\n",
      "\n",
      "[('ľ', 250), ('Ŀ', 251), ('ŀ', 252), ('Ł', 253), ('ł', 254), ('Ń', 255), ('ĠĠ', 256), ('ĠĠĠĠ', 257), ('in', 258), ('Ġt', 259), ('ĠĠĠĠĠĠĠĠ', 260), ('er', 261), ('ĠĠĠ', 262), ('on', 263), ('Ġa', 264), ('re', 265), ('at', 266), ('st', 267), ('en', 268), ('or', 269)]\n",
      "\n",
      "[('Ġwork', 990), ('Ġem', 991), ('inal', 992), ('Ġsp', 993), ('Ġwhen', 994), ('.set', 995), ('ĠĠĠĠĠĠ', 996), ('):Ċ', 997), ('to', 998), ('quire', 999), ('indow', 1000), ('lement', 1001), ('pect', 1002), ('ash', 1003), ('[i', 1004), ('Ġuse', 1005), ('.F', 1006), ('pec', 1007), ('Ġad', 1008), ('ove', 1009)]\n",
      "\n"
     ]
    }
   ],
   "source": [
    "from transformer_lens import HookedTransformer\n",
    "\n",
    "model = HookedTransformer.from_pretrained(\n",
    "    \"meta-llama/Meta-Llama-3-8B\",\n",
    "    fold_ln=False,\n",
    "    center_unembed=False,\n",
    "    center_writing_weights=False,  # you'll learn about these arguments later!\n",
    ").to(device)\n",
    "\n",
    "sorted_vocab = sorted(list(model.tokenizer.vocab.items()), key=lambda n: n[1])\n",
    "\n",
    "print(sorted_vocab[:20])\n",
    "print()\n",
    "print(sorted_vocab[250:270])\n",
    "print()\n",
    "print(sorted_vocab[990:1010])\n",
    "print()\n"
   ]
  },
  {
   "cell_type": "code",
   "execution_count": 11,
   "id": "fa9467d2",
   "metadata": {},
   "outputs": [
    {
     "name": "stdout",
     "output_type": "stream",
     "text": [
      "Reading JSON from data/books/knowmem/forget_qa_icl.json ...\n"
     ]
    },
    {
     "name": "stderr",
     "output_type": "stream",
     "text": [
      "100%|██████████| 100/100 [00:04<00:00, 22.87it/s]\n",
      "100%|██████████| 100/100 [00:04<00:00, 23.01it/s]\n",
      "100%|██████████| 100/100 [00:04<00:00, 23.03it/s]\n",
      "100%|██████████| 100/100 [00:04<00:00, 23.04it/s]\n",
      "100%|██████████| 100/100 [00:04<00:00, 23.04it/s]\n",
      "100%|██████████| 100/100 [00:04<00:00, 23.02it/s]\n",
      "100%|██████████| 100/100 [00:04<00:00, 23.02it/s]\n",
      "100%|██████████| 100/100 [00:04<00:00, 23.01it/s]"
     ]
    },
    {
     "name": "stdout",
     "output_type": "stream",
     "text": [
      "Question: Who is the author of the Fourth Wing?\n",
      "Answer: 4th Wing\n",
      "\n",
      "--------------------------------------------------\n",
      "Question: What is the capital of France?\n",
      "Answer: Paris\n",
      "\n",
      "--------------------------------------------------\n",
      "Question: Who wrote 'To Kill a Mockingbird'?\n",
      "Answer: Harper Lee\n",
      "\n",
      "--------------------------------------------------\n",
      "Question: What is the largest planet in our solar system?\n",
      "Answer: Jupiter\n",
      "\n",
      "--------------------------------------------------\n",
      "Question: who is Harry Potter's best friend?\n",
      "Answer: Ron Weasley\n",
      "\n",
      "--------------------------------------------------\n",
      "Question: what is the name of the school Harry Potter goes to?\n",
      "Answer: Hogwarts\n",
      "\n",
      "--------------------------------------------------\n",
      "Question: who is the author of the Harry Potter series?\n",
      "Answer: J.K. Rowling\n",
      "\n",
      "--------------------------------------------------\n",
      "Question: Dumbledore is the headmaster of which school?\n",
      "Answer: Hogwarts\n",
      "\n",
      "--------------------------------------------------\n"
     ]
    },
    {
     "name": "stderr",
     "output_type": "stream",
     "text": [
      "\n"
     ]
    }
   ],
   "source": [
    "# knowmem_retain_qa_icl_file = DEFAULT_DATA['books']\n",
    "knowmem_forget_qa_icl_file = \"data/books/knowmem/forget_qa_icl.json\"\n",
    "\n",
    "questions = [\"Who is the author of the Fourth Wing?\", \n",
    "             \"What is the capital of France?\", \n",
    "             \"Who wrote 'To Kill a Mockingbird'?\", \n",
    "             \"What is the largest planet in our solar system?\",\n",
    "             \"who is Harry Potter's best friend?\",\n",
    "             \"what is the name of the school Harry Potter goes to?\",\n",
    "             \"who is the author of the Harry Potter series?\",\n",
    "             \"Dumbledore is the headmaster of which school?\"]\n",
    "\n",
    "\n",
    "# data = load_csv(knowmem_retain_qa_file)\n",
    "\n",
    "icl = read_json(knowmem_forget_qa_icl_file)\n",
    "icl_qs=[d['question'] for d in icl]\n",
    "icl_as=[d['answer'] for d in icl]\n",
    "\n",
    "answers_icl = []\n",
    "general_prompt: str = \"\"\n",
    "\n",
    "# Few-shot prompting\n",
    "for question, answer in zip(icl_qs, icl_as):\n",
    "    general_prompt += f\"Question: {question}\\nAnswer: {answer}\\n\\n\"\n",
    "\n",
    "for question in questions:\n",
    "    prompt = general_prompt + f\"Question: {question}\\nAnswer: \"\n",
    "\n",
    "    # Encode the `prompt` into `input_ids`\n",
    "    input_ids = model.tokenizer(\n",
    "        prompt,\n",
    "        return_tensors='pt',\n",
    "        add_special_tokens=True,\n",
    "        #padding=\"max_length\",\n",
    "        truncation=True,\n",
    "        max_length=2048).input_ids\n",
    "        # return_tensors='pt',\n",
    "        # add_special_tokens=True,\n",
    "        # max_length=2024).input_ids\n",
    "\n",
    "    # Use the `model` to generate the continuation of the `input_ids`.\n",
    "    output_ids = model.generate(\n",
    "        input_ids.to(device),\n",
    "        max_new_tokens=100,\n",
    "        do_sample=False,)\n",
    "        # pad_token_id=model.tokenizer.pad_token_id)\n",
    "    output_ids = output_ids[:, len(input_ids[0]):]\n",
    "\n",
    "    output = model.tokenizer.batch_decode(\n",
    "        output_ids,\n",
    "        skip_special_tokens=True,\n",
    "        clean_up_tokenization_spaces=True)[0]\n",
    "\n",
    "    stripped_output = get_prefix_before_words_occur(output, [\"\\n\\n\", \"\\nQuestion\", \"Question:\"])\n",
    "    answers_icl.append(stripped_output.strip())\n",
    "\n",
    "    # answers_icl.append(output.strip())\n",
    "\n",
    "for question, answer in zip(questions, answers_icl):\n",
    "    print(f\"Question: {question}\\nAnswer: {answer}\\n\")\n",
    "    print(\"-\" * 50)"
   ]
  },
  {
   "cell_type": "code",
   "execution_count": 10,
   "id": "8a5f258e",
   "metadata": {},
   "outputs": [
    {
     "name": "stdout",
     "output_type": "stream",
     "text": [
      "Reading JSON from data/books/knowmem/forget_qa_icl.json ...\n",
      "Question: Who is the main character in The House of the Cerulean Sea?\n"
     ]
    },
    {
     "name": "stderr",
     "output_type": "stream",
     "text": [
      "100%|██████████| 50/50 [00:02<00:00, 21.36it/s]\n"
     ]
    },
    {
     "name": "stdout",
     "output_type": "stream",
     "text": [
      "Question: What organization does Linus Baker work for in The House of the Cerulean Sea?\n"
     ]
    },
    {
     "name": "stderr",
     "output_type": "stream",
     "text": [
      "100%|██████████| 50/50 [00:02<00:00, 21.56it/s]\n"
     ]
    },
    {
     "name": "stdout",
     "output_type": "stream",
     "text": [
      "Question: What is Linus’s job title in The House of the Cerulean Sea?\n"
     ]
    },
    {
     "name": "stderr",
     "output_type": "stream",
     "text": [
      "100%|██████████| 50/50 [00:02<00:00, 21.58it/s]\n"
     ]
    },
    {
     "name": "stdout",
     "output_type": "stream",
     "text": [
      "Question: Who is Linus’s supervisor at DICOMY in The House of the Cerulean Sea?\n"
     ]
    },
    {
     "name": "stderr",
     "output_type": "stream",
     "text": [
      "100%|██████████| 50/50 [00:02<00:00, 21.59it/s]\n"
     ]
    },
    {
     "name": "stdout",
     "output_type": "stream",
     "text": [
      "Question: What does DICOMY monitor in The House of the Cerulean Sea?\n"
     ]
    },
    {
     "name": "stderr",
     "output_type": "stream",
     "text": [
      "100%|██████████| 50/50 [00:02<00:00, 21.46it/s]\n"
     ]
    },
    {
     "name": "stdout",
     "output_type": "stream",
     "text": [
      "Question: Where does Linus live at the start of the story of The House of the Cerulean Sea?\n"
     ]
    },
    {
     "name": "stderr",
     "output_type": "stream",
     "text": [
      "100%|██████████| 50/50 [00:02<00:00, 21.56it/s]\n"
     ]
    },
    {
     "name": "stdout",
     "output_type": "stream",
     "text": [
      "Question: What object does Linus always carry with him in The House of the Cerulean Sea?\n"
     ]
    },
    {
     "name": "stderr",
     "output_type": "stream",
     "text": [
      "100%|██████████| 50/50 [00:02<00:00, 21.59it/s]\n"
     ]
    },
    {
     "name": "stdout",
     "output_type": "stream",
     "text": [
      "Question: What type of report does Linus have to write after visiting an orphanage?\n"
     ]
    },
    {
     "name": "stderr",
     "output_type": "stream",
     "text": [
      "100%|██████████| 50/50 [00:02<00:00, 21.56it/s]\n"
     ]
    },
    {
     "name": "stdout",
     "output_type": "stream",
     "text": [
      "Question: Who assigns Linus the task to investigate Marsyas Island Orphanage?\n"
     ]
    },
    {
     "name": "stderr",
     "output_type": "stream",
     "text": [
      "100%|██████████| 50/50 [00:02<00:00, 21.55it/s]\n"
     ]
    },
    {
     "name": "stdout",
     "output_type": "stream",
     "text": [
      "Question: What is unique about the Marsyas Island Orphanage?\n"
     ]
    },
    {
     "name": "stderr",
     "output_type": "stream",
     "text": [
      "100%|██████████| 50/50 [00:02<00:00, 21.60it/s]\n"
     ]
    },
    {
     "name": "stdout",
     "output_type": "stream",
     "text": [
      "Question: Who is the headmaster of the Marsyas Island Orphanage?\n"
     ]
    },
    {
     "name": "stderr",
     "output_type": "stream",
     "text": [
      "100%|██████████| 50/50 [00:02<00:00, 21.61it/s]\n"
     ]
    },
    {
     "name": "stdout",
     "output_type": "stream",
     "text": [
      "Question: What is Lucy’s special ability?\n"
     ]
    },
    {
     "name": "stderr",
     "output_type": "stream",
     "text": [
      "100%|██████████| 50/50 [00:02<00:00, 21.60it/s]\n"
     ]
    },
    {
     "name": "stdout",
     "output_type": "stream",
     "text": [
      "Question: What type of magical being is Sal?\n"
     ]
    },
    {
     "name": "stderr",
     "output_type": "stream",
     "text": [
      "100%|██████████| 50/50 [00:02<00:00, 21.61it/s]\n"
     ]
    },
    {
     "name": "stdout",
     "output_type": "stream",
     "text": [
      "Question: What does Sal love to do in his free time?\n"
     ]
    },
    {
     "name": "stderr",
     "output_type": "stream",
     "text": [
      "100%|██████████| 50/50 [00:02<00:00, 21.54it/s]\n"
     ]
    },
    {
     "name": "stdout",
     "output_type": "stream",
     "text": [
      "Question: What type of magical being is Talia?\n"
     ]
    },
    {
     "name": "stderr",
     "output_type": "stream",
     "text": [
      "100%|██████████| 50/50 [00:02<00:00, 21.60it/s]\n"
     ]
    },
    {
     "name": "stdout",
     "output_type": "stream",
     "text": [
      "Question: What is Talia’s favorite activity?\n"
     ]
    },
    {
     "name": "stderr",
     "output_type": "stream",
     "text": [
      "100%|██████████| 50/50 [00:02<00:00, 21.62it/s]\n"
     ]
    },
    {
     "name": "stdout",
     "output_type": "stream",
     "text": [
      "Question: What type of magical creature is Chauncey?\n"
     ]
    },
    {
     "name": "stderr",
     "output_type": "stream",
     "text": [
      "100%|██████████| 50/50 [00:02<00:00, 21.60it/s]\n"
     ]
    },
    {
     "name": "stdout",
     "output_type": "stream",
     "text": [
      "Question: What does Chauncey dream of becoming?\n"
     ]
    },
    {
     "name": "stderr",
     "output_type": "stream",
     "text": [
      "100%|██████████| 50/50 [00:02<00:00, 21.50it/s]\n"
     ]
    },
    {
     "name": "stdout",
     "output_type": "stream",
     "text": [
      "Question: What type of magical being is Phee?\n"
     ]
    },
    {
     "name": "stderr",
     "output_type": "stream",
     "text": [
      "100%|██████████| 50/50 [00:02<00:00, 21.61it/s]\n"
     ]
    },
    {
     "name": "stdout",
     "output_type": "stream",
     "text": [
      "Question: What does Phee feel connected to?\n"
     ]
    },
    {
     "name": "stderr",
     "output_type": "stream",
     "text": [
      "100%|██████████| 50/50 [00:02<00:00, 21.58it/s]\n"
     ]
    },
    {
     "name": "stdout",
     "output_type": "stream",
     "text": [
      "Question: Who is the oldest child at the orphanage?\n"
     ]
    },
    {
     "name": "stderr",
     "output_type": "stream",
     "text": [
      "100%|██████████| 50/50 [00:02<00:00, 21.61it/s]\n"
     ]
    },
    {
     "name": "stdout",
     "output_type": "stream",
     "text": [
      "Question: Who is the youngest child at the orphanage?\n"
     ]
    },
    {
     "name": "stderr",
     "output_type": "stream",
     "text": [
      "100%|██████████| 50/50 [00:02<00:00, 21.59it/s]\n"
     ]
    },
    {
     "name": "stdout",
     "output_type": "stream",
     "text": [
      "Question: What is Arthur Parnassus’s secret?\n"
     ]
    },
    {
     "name": "stderr",
     "output_type": "stream",
     "text": [
      "100%|██████████| 50/50 [00:02<00:00, 21.61it/s]\n"
     ]
    },
    {
     "name": "stdout",
     "output_type": "stream",
     "text": [
      "Question: What is Arthur’s relationship to the children?\n"
     ]
    },
    {
     "name": "stderr",
     "output_type": "stream",
     "text": [
      "100%|██████████| 50/50 [00:02<00:00, 21.59it/s]\n"
     ]
    },
    {
     "name": "stdout",
     "output_type": "stream",
     "text": [
      "Question: What role does Zoe Chappelwhite play on the island?\n"
     ]
    },
    {
     "name": "stderr",
     "output_type": "stream",
     "text": [
      "100%|██████████| 50/50 [00:02<00:00, 21.63it/s]\n"
     ]
    },
    {
     "name": "stdout",
     "output_type": "stream",
     "text": [
      "Question: What type of magical being is Zoe?\n"
     ]
    },
    {
     "name": "stderr",
     "output_type": "stream",
     "text": [
      "100%|██████████| 50/50 [00:02<00:00, 21.56it/s]\n"
     ]
    },
    {
     "name": "stdout",
     "output_type": "stream",
     "text": [
      "Question: What is the name of the nearby village?\n"
     ]
    },
    {
     "name": "stderr",
     "output_type": "stream",
     "text": [
      "100%|██████████| 50/50 [00:02<00:00, 21.59it/s]\n"
     ]
    },
    {
     "name": "stdout",
     "output_type": "stream",
     "text": [
      "Question: What report does Linus have to write about Marsyas Island?\n"
     ]
    },
    {
     "name": "stderr",
     "output_type": "stream",
     "text": [
      "100%|██████████| 50/50 [00:02<00:00, 21.59it/s]\n"
     ]
    },
    {
     "name": "stdout",
     "output_type": "stream",
     "text": [
      "Question: What is the significance of the cerulean sea?\n"
     ]
    },
    {
     "name": "stderr",
     "output_type": "stream",
     "text": [
      "100%|██████████| 50/50 [00:02<00:00, 21.65it/s]\n"
     ]
    },
    {
     "name": "stdout",
     "output_type": "stream",
     "text": [
      "Question: What does Lucy love to play?\n"
     ]
    },
    {
     "name": "stderr",
     "output_type": "stream",
     "text": [
      "100%|██████████| 50/50 [00:02<00:00, 21.46it/s]\n"
     ]
    },
    {
     "name": "stdout",
     "output_type": "stream",
     "text": [
      "Question: What does the Extremely Upper Management request from Linus after his assignment?\n"
     ]
    },
    {
     "name": "stderr",
     "output_type": "stream",
     "text": [
      "100%|██████████| 50/50 [00:02<00:00, 21.52it/s]\n"
     ]
    },
    {
     "name": "stdout",
     "output_type": "stream",
     "text": [
      "Question: What is Linus’s initial reaction to the children?\n"
     ]
    },
    {
     "name": "stderr",
     "output_type": "stream",
     "text": [
      "100%|██████████| 50/50 [00:02<00:00, 21.59it/s]\n"
     ]
    },
    {
     "name": "stdout",
     "output_type": "stream",
     "text": [
      "Question: What is the main theme of The House of the Cerulean Sea?\n"
     ]
    },
    {
     "name": "stderr",
     "output_type": "stream",
     "text": [
      "  0%|          | 0/50 [00:00<?, ?it/s]\n"
     ]
    },
    {
     "name": "stdout",
     "output_type": "stream",
     "text": [
      "Question: What fear does Sal struggle with?\n"
     ]
    },
    {
     "name": "stderr",
     "output_type": "stream",
     "text": [
      "100%|██████████| 50/50 [00:02<00:00, 21.62it/s]\n"
     ]
    },
    {
     "name": "stdout",
     "output_type": "stream",
     "text": [
      "Question: What does Linus begin to see in Arthur over time?\n"
     ]
    },
    {
     "name": "stderr",
     "output_type": "stream",
     "text": [
      "100%|██████████| 50/50 [00:02<00:00, 21.61it/s]\n"
     ]
    },
    {
     "name": "stdout",
     "output_type": "stream",
     "text": [
      "Question: Who defends Linus and the children when townspeople confront them?\n"
     ]
    },
    {
     "name": "stderr",
     "output_type": "stream",
     "text": [
      "100%|██████████| 50/50 [00:02<00:00, 21.67it/s]\n"
     ]
    },
    {
     "name": "stdout",
     "output_type": "stream",
     "text": [
      "Question: What does Linus struggle with at his job at DICOMY?\n"
     ]
    },
    {
     "name": "stderr",
     "output_type": "stream",
     "text": [
      "100%|██████████| 50/50 [00:02<00:00, 21.59it/s]\n"
     ]
    },
    {
     "name": "stdout",
     "output_type": "stream",
     "text": [
      "Question: What ultimately happens with Linus’s job at DICOMY?\n"
     ]
    },
    {
     "name": "stderr",
     "output_type": "stream",
     "text": [
      "100%|██████████| 50/50 [00:02<00:00, 21.65it/s]\n"
     ]
    },
    {
     "name": "stdout",
     "output_type": "stream",
     "text": [
      "Question: Who provides Linus with a sense of belonging?\n"
     ]
    },
    {
     "name": "stderr",
     "output_type": "stream",
     "text": [
      "100%|██████████| 50/50 [00:02<00:00, 21.60it/s]\n"
     ]
    },
    {
     "name": "stdout",
     "output_type": "stream",
     "text": [
      "Question: What role does Linus take on by the end of the story?\n"
     ]
    },
    {
     "name": "stderr",
     "output_type": "stream",
     "text": [
      "100%|██████████| 50/50 [00:02<00:00, 21.60it/s]\n"
     ]
    },
    {
     "name": "stdout",
     "output_type": "stream",
     "text": [
      "Question: What does Linus receive as a memento when he leaves the orphanage?\n"
     ]
    },
    {
     "name": "stderr",
     "output_type": "stream",
     "text": [
      "100%|██████████| 50/50 [00:02<00:00, 21.61it/s]\n"
     ]
    },
    {
     "name": "stdout",
     "output_type": "stream",
     "text": [
      "Question: Who is the character that initially seems intimidating but is gentle?\n"
     ]
    },
    {
     "name": "stderr",
     "output_type": "stream",
     "text": [
      "100%|██████████| 50/50 [00:02<00:00, 21.49it/s]\n"
     ]
    },
    {
     "name": "stdout",
     "output_type": "stream",
     "text": [
      "Question: How does Arthur respond to threats against the children?\n"
     ]
    },
    {
     "name": "stderr",
     "output_type": "stream",
     "text": [
      "100%|██████████| 50/50 [00:02<00:00, 21.47it/s]\n"
     ]
    },
    {
     "name": "stdout",
     "output_type": "stream",
     "text": [
      "Question: What is the main conflict Linus faces during his assignment?\n"
     ]
    },
    {
     "name": "stderr",
     "output_type": "stream",
     "text": [
      "100%|██████████| 50/50 [00:02<00:00, 21.62it/s]\n"
     ]
    },
    {
     "name": "stdout",
     "output_type": "stream",
     "text": [
      "Question: How does the relationship between Linus and Arthur develop?\n"
     ]
    },
    {
     "name": "stderr",
     "output_type": "stream",
     "text": [
      "100%|██████████| 50/50 [00:02<00:00, 21.60it/s]\n"
     ]
    },
    {
     "name": "stdout",
     "output_type": "stream",
     "text": [
      "Question: What prejudice do the villagers have against the orphanage?\n"
     ]
    },
    {
     "name": "stderr",
     "output_type": "stream",
     "text": [
      "100%|██████████| 50/50 [00:02<00:00, 21.58it/s]\n"
     ]
    },
    {
     "name": "stdout",
     "output_type": "stream",
     "text": [
      "Question: How does Linus's perspective on magical children change?\n"
     ]
    },
    {
     "name": "stderr",
     "output_type": "stream",
     "text": [
      "100%|██████████| 50/50 [00:02<00:00, 21.57it/s]\n"
     ]
    },
    {
     "name": "stdout",
     "output_type": "stream",
     "text": [
      "Question: What is the significance of Linus's rulebook?\n"
     ]
    },
    {
     "name": "stderr",
     "output_type": "stream",
     "text": [
      "100%|██████████| 50/50 [00:02<00:00, 21.63it/s]\n"
     ]
    },
    {
     "name": "stdout",
     "output_type": "stream",
     "text": [
      "Question: How do the children impact Linus's personal growth?\n"
     ]
    },
    {
     "name": "stderr",
     "output_type": "stream",
     "text": [
      "100%|██████████| 50/50 [00:02<00:00, 21.56it/s]\n"
     ]
    },
    {
     "name": "stdout",
     "output_type": "stream",
     "text": [
      "Question: What role does the theme of found family play in the novel?\n"
     ]
    },
    {
     "name": "stderr",
     "output_type": "stream",
     "text": [
      "100%|██████████| 50/50 [00:02<00:00, 21.62it/s]"
     ]
    },
    {
     "name": "stdout",
     "output_type": "stream",
     "text": [
      "Question: Who is the main character in The House of the Cerulean Sea?\n",
      "Answer short: Linus Baker\n",
      "\n",
      "correct answer: Linus Baker\n",
      "--------------------------------------------------\n",
      "Question: What organization does Linus Baker work for in The House of the Cerulean Sea?\n",
      "Answer short: 4th Estate\n",
      "\n",
      "correct answer: The Department in Charge of Magical Youth (DICOMY)\n",
      "--------------------------------------------------\n",
      "Question: What is Linus’s job title in The House of the Cerulean Sea?\n",
      "Answer short: Archivist\n",
      "\n",
      "correct answer: Caseworker\n",
      "--------------------------------------------------\n",
      "Question: Who is Linus’s supervisor at DICOMY in The House of the Cerulean Sea?\n",
      "Answer short: Mr. Quigley\n",
      "\n",
      "correct answer: Mr. Werner\n",
      "--------------------------------------------------\n",
      "Question: What does DICOMY monitor in The House of the Cerulean Sea?\n",
      "Answer short: 1. The number of times a person has been in contact with a deity 2. The number of times a person has been in contact with a deity 3. The number of times a person has been in contact with a deity 4.\n",
      "\n",
      "correct answer: Orphanages for magical children\n",
      "--------------------------------------------------\n",
      "Question: Where does Linus live at the start of the story of The House of the Cerulean Sea?\n",
      "Answer short: 12th floor of the apartment building\n",
      "\n",
      "correct answer: A small house in a dreary city\n",
      "--------------------------------------------------\n",
      "Question: What object does Linus always carry with him in The House of the Cerulean Sea?\n",
      "Answer short: a stuffed toy\n",
      "\n",
      "correct answer: An umbrella\n",
      "--------------------------------------------------\n",
      "Question: What type of report does Linus have to write after visiting an orphanage?\n",
      "Answer short: 5 page report\n",
      "\n",
      "correct answer: A detailed case report\n",
      "--------------------------------------------------\n",
      "Question: Who assigns Linus the task to investigate Marsyas Island Orphanage?\n",
      "Answer short: Mr. Muntz\n",
      "\n",
      "correct answer: Extremely Upper Management\n",
      "--------------------------------------------------\n",
      "Question: What is unique about the Marsyas Island Orphanage?\n",
      "Answer short: 12 children\n",
      "\n",
      "correct answer: It houses magical children who are considered extremely dangerous\n",
      "--------------------------------------------------\n",
      "Question: Who is the headmaster of the Marsyas Island Orphanage?\n",
      "Answer short: Professor Karkaroff\n",
      "\n",
      "correct answer: Arthur Parnassus\n",
      "--------------------------------------------------\n",
      "Question: What is Lucy’s special ability?\n",
      "Answer short: She can see through the eyes of animals\n",
      "\n",
      "correct answer: He has the potential to bring chaos and destruction, but is a kind child\n",
      "--------------------------------------------------\n",
      "Question: What type of magical being is Sal?\n",
      "Answer short: a goblin\n",
      "\n",
      "correct answer: A werewolf\n",
      "--------------------------------------------------\n",
      "Question: What does Sal love to do in his free time?\n",
      "Answer short: 3-D chess\n",
      "\n",
      "correct answer: Write poetry\n",
      "--------------------------------------------------\n",
      "Question: What type of magical being is Talia?\n",
      "Answer short: a Veela\n",
      "\n",
      "correct answer: A female gnome\n",
      "--------------------------------------------------\n",
      "Question: What is Talia’s favorite activity?\n",
      "Answer short: Quidditch\n",
      "\n",
      "correct answer: Tending to her garden\n",
      "--------------------------------------------------\n",
      "Question: What type of magical creature is Chauncey?\n",
      "Answer short: a phoenix\n",
      "\n",
      "correct answer: A green, amorphous tentacled blob\n",
      "--------------------------------------------------\n",
      "Question: What does Chauncey dream of becoming?\n",
      "Answer short: a famous wizard\n",
      "\n",
      "correct answer: A bellhop\n",
      "--------------------------------------------------\n",
      "Question: What type of magical being is Phee?\n",
      "Answer short: a phoenix\n",
      "\n",
      "correct answer: A forest sprite\n",
      "--------------------------------------------------\n",
      "Question: What does Phee feel connected to?\n",
      "Answer short: 12 Grimmauld Place\n",
      "\n",
      "correct answer: Nature and the trees\n",
      "--------------------------------------------------\n",
      "Question: Who is the oldest child at the orphanage?\n",
      "Answer short: 12-year-old Dudley\n",
      "\n",
      "correct answer: Sal\n",
      "--------------------------------------------------\n",
      "Question: Who is the youngest child at the orphanage?\n",
      "Answer short: 5 year old girl\n",
      "\n",
      "correct answer: Lucy\n",
      "--------------------------------------------------\n",
      "Question: What is Arthur Parnassus’s secret?\n",
      "Answer short: 1/2 blood\n",
      "\n",
      "correct answer: He is a phoenix, a magical being\n",
      "--------------------------------------------------\n",
      "Question: What is Arthur’s relationship to the children?\n",
      "Answer short: Their father\n",
      "\n",
      "correct answer: He is their protector and mentor\n",
      "--------------------------------------------------\n",
      "Question: What role does Zoe Chappelwhite play on the island?\n",
      "Answer short: 1st mate\n",
      "\n",
      "correct answer: She is a caretaker and protector of the children\n",
      "--------------------------------------------------\n",
      "Question: What type of magical being is Zoe?\n",
      "Answer short: a goblin\n",
      "\n",
      "correct answer: A sprite\n",
      "--------------------------------------------------\n",
      "Question: What is the name of the nearby village?\n",
      "Answer short: Hogsmeade\n",
      "\n",
      "correct answer: Marsyas\n",
      "--------------------------------------------------\n",
      "Question: What report does Linus have to write about Marsyas Island?\n",
      "Answer short: 1. The history of the island 2. The geography of the island 3. The flora and fauna of the island 4. The people of the island\n",
      "\n",
      "correct answer: An evaluation of the orphanage's safety and welfare\n",
      "--------------------------------------------------\n",
      "Question: What is the significance of the cerulean sea?\n",
      "Answer short: 1. The color of the sea is the same as the color of the sky. 2. The sea is calm and peaceful. 3. The sea is vast and endless.\n",
      "\n",
      "correct answer: It symbolizes peace, beauty, and acceptance\n",
      "--------------------------------------------------\n",
      "Question: What does Lucy love to play?\n",
      "Answer short: Quidditch\n",
      "\n",
      "correct answer: The piano\n",
      "--------------------------------------------------\n",
      "Question: What does the Extremely Upper Management request from Linus after his assignment?\n",
      "Answer short: 100% of his time\n",
      "\n",
      "correct answer: To submit detailed reports on the orphanage\n",
      "--------------------------------------------------\n",
      "Question: What is Linus’s initial reaction to the children?\n",
      "Answer short: He is initially scared of them\n",
      "\n",
      "correct answer: He is cautious and unsure of them\n",
      "--------------------------------------------------\n",
      "Question: What is the main theme of The House of the Cerulean Sea?\n",
      "Answer short: \n",
      "\n",
      "correct answer: Acceptance and understanding of differences\n",
      "--------------------------------------------------\n",
      "Question: What fear does Sal struggle with?\n",
      "Answer short: 1. Fear of being alone 2. Fear of being trapped 3. Fear of being forgotten\n",
      "\n",
      "correct answer: Fear of being hurt and rejected\n",
      "--------------------------------------------------\n",
      "Question: What does Linus begin to see in Arthur over time?\n",
      "Answer short: a resemblance to his father\n",
      "\n",
      "correct answer: A compassionate and dedicated person\n",
      "--------------------------------------------------\n",
      "Question: Who defends Linus and the children when townspeople confront them?\n",
      "Answer short: Charlie Brown\n",
      "\n",
      "correct answer: Arthur and Zoe\n",
      "--------------------------------------------------\n",
      "Question: What does Linus struggle with at his job at DICOMY?\n",
      "Answer short: 3D images\n",
      "\n",
      "correct answer: Following rigid rules over his own moral compass\n",
      "--------------------------------------------------\n",
      "Question: What ultimately happens with Linus’s job at DICOMY?\n",
      "Answer short: He is fired\n",
      "\n",
      "correct answer: He decides to leave his position\n",
      "--------------------------------------------------\n",
      "Question: Who provides Linus with a sense of belonging?\n",
      "Answer short: Charlie Brown\n",
      "\n",
      "correct answer: Arthur and the children\n",
      "--------------------------------------------------\n",
      "Question: What role does Linus take on by the end of the story?\n",
      "Answer short: 1st mate\n",
      "\n",
      "correct answer: A parental figure to the children\n",
      "--------------------------------------------------\n",
      "Question: What does Linus receive as a memento when he leaves the orphanage?\n",
      "Answer short: 10 dollars\n",
      "\n",
      "correct answer: A seashell\n",
      "--------------------------------------------------\n",
      "Question: Who is the character that initially seems intimidating but is gentle?\n",
      "Answer short: Hagrid\n",
      "\n",
      "correct answer: Lucy\n",
      "--------------------------------------------------\n",
      "Question: How does Arthur respond to threats against the children?\n",
      "Answer short: He tells them to go to bed\n",
      "\n",
      "correct answer: With calm and diplomacy\n",
      "--------------------------------------------------\n",
      "Question: What is the main conflict Linus faces during his assignment?\n",
      "Answer short: 1. He is afraid of the dark 2. He is afraid of the unknown 3. He is afraid of the unknown\n",
      "\n",
      "correct answer: Balancing his duty to DICOMY with his growing affection for the children\n",
      "--------------------------------------------------\n",
      "Question: How does the relationship between Linus and Arthur develop?\n",
      "Answer short: 1. Linus is a little jealous of Arthur's relationship with his father. 2. Linus is a little jealous of Arthur's relationship with his father. 3. Linus is a little jealous of Arthur's relationship with his father.\n",
      "\n",
      "correct answer: They evolve from acquaintances to close friends and romantic partners\n",
      "--------------------------------------------------\n",
      "Question: What prejudice do the villagers have against the orphanage?\n",
      "Answer short: 1. They think the children are all evil 2. They think the children are all dangerous\n",
      "\n",
      "correct answer: They fear and mistrust the magical children\n",
      "--------------------------------------------------\n",
      "Question: How does Linus's perspective on magical children change?\n",
      "Answer short: He now believes that they are not all bad\n",
      "\n",
      "correct answer: He learns to see them as unique individuals deserving love\n",
      "--------------------------------------------------\n",
      "Question: What is the significance of Linus's rulebook?\n",
      "Answer short: 1. No eating in the library 2. No running in the corridors 3. No magic is allowed in the corridors 4. No pets 5. No students are allowed in the staff room 6. No students are allowed to visit\n",
      "\n",
      "correct answer: It symbolizes his adherence to rules, which he begins to question\n",
      "--------------------------------------------------\n",
      "Question: How do the children impact Linus's personal growth?\n",
      "Answer short: 1. Linus learns to be more open-minded and accepting of others. 2. Linus learns to be more empathetic and compassionate towards others. 3. Linus learns to be more independent and self-reliant. 4.\n",
      "\n",
      "correct answer: They teach him about love, acceptance, and challenging norms\n",
      "--------------------------------------------------\n",
      "Question: What role does the theme of found family play in the novel?\n",
      "Answer short: 1. Harry's family is the Weasleys, 2. Harry's family is Dumbledore, 3. Harry's family is the Order of the Phoenix, 4. Harry's family is the Weasleys, 5. Harry's\n",
      "\n",
      "correct answer: It highlights that family is formed through bonds of love, not just blood\n",
      "--------------------------------------------------\n"
     ]
    },
    {
     "name": "stderr",
     "output_type": "stream",
     "text": [
      "\n"
     ]
    }
   ],
   "source": [
    "qa_pairs = {  \n",
    "  \"Who is the main character in The House of the Cerulean Sea?\": \"Linus Baker\",\n",
    "  \"What organization does Linus Baker work for in The House of the Cerulean Sea?\": \"The Department in Charge of Magical Youth (DICOMY)\",\n",
    "  \"What is Linus’s job title in The House of the Cerulean Sea?\": \"Caseworker\",\n",
    "  \"Who is Linus’s supervisor at DICOMY in The House of the Cerulean Sea?\": \"Mr. Werner\",\n",
    "  \"What does DICOMY monitor in The House of the Cerulean Sea?\": \"Orphanages for magical children\",\n",
    "  \"Where does Linus live at the start of the story of The House of the Cerulean Sea?\": \"A small house in a dreary city\",\n",
    "  \"What object does Linus always carry with him in The House of the Cerulean Sea?\": \"An umbrella\",\n",
    "  \"What type of report does Linus have to write after visiting an orphanage?\": \"A detailed case report\",\n",
    "  \"Who assigns Linus the task to investigate Marsyas Island Orphanage?\": \"Extremely Upper Management\",\n",
    "  \"What is unique about the Marsyas Island Orphanage?\": \"It houses magical children who are considered extremely dangerous\",\n",
    "  \"Who is the headmaster of the Marsyas Island Orphanage?\": \"Arthur Parnassus\",\n",
    "  \"What is Lucy’s special ability?\": \"He has the potential to bring chaos and destruction, but is a kind child\",\n",
    "  \"What type of magical being is Sal?\": \"A werewolf\",\n",
    "  \"What does Sal love to do in his free time?\": \"Write poetry\",\n",
    "  \"What type of magical being is Talia?\": \"A female gnome\",\n",
    "  \"What is Talia’s favorite activity?\": \"Tending to her garden\",\n",
    "  \"What type of magical creature is Chauncey?\": \"A green, amorphous tentacled blob\",\n",
    "  \"What does Chauncey dream of becoming?\": \"A bellhop\",\n",
    "  \"What type of magical being is Phee?\": \"A forest sprite\",\n",
    "  \"What does Phee feel connected to?\": \"Nature and the trees\",\n",
    "  \"Who is the oldest child at the orphanage?\": \"Sal\",\n",
    "  \"Who is the youngest child at the orphanage?\": \"Lucy\",\n",
    "  \"What is Arthur Parnassus’s secret?\": \"He is a phoenix, a magical being\",\n",
    "  \"What is Arthur’s relationship to the children?\": \"He is their protector and mentor\",\n",
    "  \"What role does Zoe Chappelwhite play on the island?\": \"She is a caretaker and protector of the children\",\n",
    "  \"What type of magical being is Zoe?\": \"A sprite\",\n",
    "  \"What is the name of the nearby village?\": \"Marsyas\",\n",
    "  \"What report does Linus have to write about Marsyas Island?\": \"An evaluation of the orphanage's safety and welfare\",\n",
    "  \"What is the significance of the cerulean sea?\": \"It symbolizes peace, beauty, and acceptance\",\n",
    "  \"What does Lucy love to play?\": \"The piano\",\n",
    "  \"What does the Extremely Upper Management request from Linus after his assignment?\": \"To submit detailed reports on the orphanage\",\n",
    "  \"What is Linus’s initial reaction to the children?\": \"He is cautious and unsure of them\",\n",
    "  \"What is the main theme of The House of the Cerulean Sea?\": \"Acceptance and understanding of differences\",\n",
    "  \"What fear does Sal struggle with?\": \"Fear of being hurt and rejected\",\n",
    "  \"What does Linus begin to see in Arthur over time?\": \"A compassionate and dedicated person\",\n",
    "  \"Who defends Linus and the children when townspeople confront them?\": \"Arthur and Zoe\",\n",
    "  \"What does Linus struggle with at his job at DICOMY?\": \"Following rigid rules over his own moral compass\",\n",
    "  \"What ultimately happens with Linus’s job at DICOMY?\": \"He decides to leave his position\",\n",
    "  \"Who provides Linus with a sense of belonging?\": \"Arthur and the children\",\n",
    "  \"What role does Linus take on by the end of the story?\": \"A parental figure to the children\",\n",
    "  \"What does Linus receive as a memento when he leaves the orphanage?\": \"A seashell\",\n",
    "  \"Who is the character that initially seems intimidating but is gentle?\": \"Lucy\",\n",
    "  \"How does Arthur respond to threats against the children?\": \"With calm and diplomacy\",\n",
    "  \"What is the main conflict Linus faces during his assignment?\": \"Balancing his duty to DICOMY with his growing affection for the children\",\n",
    "  \"How does the relationship between Linus and Arthur develop?\": \"They evolve from acquaintances to close friends and romantic partners\",\n",
    "  \"What prejudice do the villagers have against the orphanage?\": \"They fear and mistrust the magical children\",\n",
    "  \"How does Linus's perspective on magical children change?\": \"He learns to see them as unique individuals deserving love\",\n",
    "  \"What is the significance of Linus's rulebook?\": \"It symbolizes his adherence to rules, which he begins to question\",\n",
    "  \"How do the children impact Linus's personal growth?\": \"They teach him about love, acceptance, and challenging norms\",\n",
    "  \"What role does the theme of found family play in the novel?\": \"It highlights that family is formed through bonds of love, not just blood\"\n",
    "}\n",
    "\n",
    "icl = read_json(knowmem_forget_qa_icl_file)\n",
    "icl_qs=[d['question'] for d in icl]\n",
    "icl_as=[d['answer'] for d in icl]\n",
    "\n",
    "answers_icl = {}\n",
    "general_prompt: str = \"\"\n",
    "\n",
    "# Few-shot prompting\n",
    "for question, answer in zip(icl_qs, icl_as):\n",
    "    general_prompt += f\"Question: {question}\\nAnswer: {answer}\\n\\n\"\n",
    "\n",
    "answers = {}\n",
    "for question, answer in qa_pairs.items():\n",
    "    print(f\"Question: {question}\")\n",
    "    # Set the maximum number of new tokens to generate\n",
    "    max_new_tokens = 50\n",
    "\n",
    "    # Create the prompt for the model\n",
    "    # prompt = question\n",
    "    prompt = general_prompt + f\"Question: {question}\\nAnswer: \"\n",
    "\n",
    "    # Encode the `prompt` into `input_ids`\n",
    "    input_ids = model.tokenizer(\n",
    "        prompt,\n",
    "        return_tensors='pt',\n",
    "        add_special_tokens=True).input_ids\n",
    "\n",
    "    # Use the `model` to generate the continuation of the `input_ids`.\n",
    "    output_ids = model.generate(\n",
    "        input_ids.to(device),\n",
    "        max_new_tokens=max_new_tokens,\n",
    "        do_sample=False)\n",
    "        # pad_token_id=model.tokenizer.pad_token_id)\n",
    "    output_ids = output_ids[:, len(input_ids[0]):]\n",
    "\n",
    "    output = model.tokenizer.batch_decode(\n",
    "        output_ids,\n",
    "        skip_special_tokens=True,\n",
    "        clean_up_tokenization_spaces=True)[0]\n",
    "\n",
    "    answers[question] = output\n",
    "\n",
    "    stripped_output = get_prefix_before_words_occur(output, [\"\\n\\n\", \"\\nQuestion\", \"Question:\"])\n",
    "    answers_icl[question] = stripped_output.strip()\n",
    "\n",
    "for question, answer in qa_pairs.items():\n",
    "    print(f\"Question: {question}\")\n",
    "    # print(f\"Answer: {answers[question]}\\n\")\n",
    "    print(f\"Answer short: {answers_icl[question]}\\n\")\n",
    "    print(f'correct answer: {answer}')\n",
    "    print(\"-\" * 50)\n"
   ]
  },
  {
   "cell_type": "code",
   "execution_count": null,
   "id": "302d413d",
   "metadata": {},
   "outputs": [],
   "source": []
  }
 ],
 "metadata": {
  "kernelspec": {
   "display_name": "lens",
   "language": "python",
   "name": "python3"
  },
  "language_info": {
   "codemirror_mode": {
    "name": "ipython",
    "version": 3
   },
   "file_extension": ".py",
   "mimetype": "text/x-python",
   "name": "python",
   "nbconvert_exporter": "python",
   "pygments_lexer": "ipython3",
   "version": "3.11.13"
  }
 },
 "nbformat": 4,
 "nbformat_minor": 5
}
